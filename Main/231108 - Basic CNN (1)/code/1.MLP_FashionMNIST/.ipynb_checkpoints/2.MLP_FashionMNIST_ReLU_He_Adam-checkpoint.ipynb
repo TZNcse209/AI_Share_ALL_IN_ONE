{
 "cells": [
  {
   "cell_type": "code",
   "execution_count": 1,
   "metadata": {},
   "outputs": [],
   "source": [
    "import torch\n",
    "import torch.nn as nn\n",
    "import torch.optim as optim\n",
    "import torchvision\n",
    "import torchvision.transforms as transforms\n",
    "import torch.nn.init as init\n",
    "\n",
    "# Check if GPU is available\n",
    "device = torch.device(\"cuda:0\" if torch.cuda.is_available() else \"cpu\")"
   ]
  },
  {
   "cell_type": "code",
   "execution_count": null,
   "metadata": {},
   "outputs": [],
   "source": []
  },
  {
   "cell_type": "markdown",
   "metadata": {},
   "source": [
    "#### Data"
   ]
  },
  {
   "cell_type": "code",
   "execution_count": 2,
   "metadata": {},
   "outputs": [],
   "source": [
    "# Load CFashionMNIST dataset\n",
    "transform = transforms.Compose([transforms.ToTensor(), transforms.Normalize((0.5,), (0.5,))])\n",
    "\n",
    "trainset = torchvision.datasets.FashionMNIST(root='data', train=True, download=True, transform=transform)\n",
    "trainloader = torch.utils.data.DataLoader(trainset, batch_size=1024, num_workers=10, shuffle=True, drop_last=True)\n",
    "\n",
    "testset = torchvision.datasets.FashionMNIST(root='data', train=False, download=True, transform=transform)\n",
    "testloader = torch.utils.data.DataLoader(testset, batch_size=1024, num_workers=10, shuffle=False)"
   ]
  },
  {
   "cell_type": "code",
   "execution_count": 3,
   "metadata": {},
   "outputs": [
    {
     "data": {
      "image/png": "[encoded data removed]",
      "text/plain": [
       "<Figure size 640x480 with 1 Axes>"
      ]
     },
     "metadata": {},
     "output_type": "display_data"
    }
   ],
   "source": [
    "import matplotlib.pyplot as plt\n",
    "import numpy as np\n",
    "\n",
    "# Function to display the images\n",
    "def imshow(img):\n",
    "    img = img*0.5 + 0.5\n",
    "    np_img = img.numpy()\n",
    "    plt.imshow(np.transpose(np_img, (1, 2, 0)))\n",
    "    plt.show()\n",
    "\n",
    "for i, (images, labels) in enumerate(trainloader, 0):\n",
    "    # Plot some images\n",
    "    imshow(torchvision.utils.make_grid(images[:8]))  # Display 8 images from the batch\n",
    "    break"
   ]
  },
  {
   "cell_type": "code",
   "execution_count": null,
   "metadata": {},
   "outputs": [],
   "source": []
  },
  {
   "cell_type": "markdown",
   "metadata": {},
   "source": [
    "#### Model"
   ]
  },
  {
   "cell_type": "code",
   "execution_count": 4,
   "metadata": {},
   "outputs": [
    {
     "name": "stdout",
     "output_type": "stream",
     "text": [
      "Sequential(\n",
      "  (0): Flatten(start_dim=1, end_dim=-1)\n",
      "  (1): Linear(in_features=784, out_features=256, bias=True)\n",
      "  (2): ReLU()\n",
      "  (3): Linear(in_features=256, out_features=10, bias=True)\n",
      ")\n"
     ]
    }
   ],
   "source": [
    "model = nn.Sequential(\n",
    "    nn.Flatten(), \n",
    "    nn.Linear(784, 256),\n",
    "    nn.ReLU(),\n",
    "    nn.Linear(256, 10)\n",
    ")\n",
    "\n",
    "# Initialize the weights using Xavier Glorot initialization\n",
    "for layer in model:\n",
    "    if isinstance(layer, nn.Linear):\n",
    "        init.kaiming_uniform_(layer.weight, nonlinearity='relu')\n",
    "        if layer.bias is not None:\n",
    "            layer.bias.data.fill_(0)\n",
    "            \n",
    "model = model.to(device)\n",
    "print(model)"
   ]
  },
  {
   "cell_type": "code",
   "execution_count": null,
   "metadata": {},
   "outputs": [],
   "source": []
  },
  {
   "cell_type": "markdown",
   "metadata": {},
   "source": [
    "#### Loss, Optimizer, and Evaluation Function"
   ]
  },
  {
   "cell_type": "code",
   "execution_count": 5,
   "metadata": {},
   "outputs": [],
   "source": [
    "criterion = nn.CrossEntropyLoss()\n",
    "optimizer = optim.Adam(model.parameters(), lr=0.0001)"
   ]
  },
  {
   "cell_type": "code",
   "execution_count": 6,
   "metadata": {},
   "outputs": [],
   "source": [
    "# Function to compute loss and accuracy for test set\n",
    "def evaluate(model, testloader, criterion):\n",
    "    model.eval()\n",
    "    test_loss = 0.0\n",
    "    running_correct = 0\n",
    "    total = 0\n",
    "    with torch.no_grad():\n",
    "        for images, labels in testloader:\n",
    "            # Move inputs and labels to the device\n",
    "            images, labels = images.to(device), labels.to(device)\n",
    "\n",
    "            outputs = model(images)\n",
    "            loss = criterion(outputs, labels)\n",
    "            test_loss += loss.item()\n",
    "            \n",
    "            _, predicted = torch.max(outputs.data, 1)\n",
    "            total += labels.size(0)\n",
    "            running_correct += (predicted == labels).sum().item()\n",
    "\n",
    "    accuracy = 100 * running_correct / total\n",
    "    test_loss = test_loss / len(testloader)\n",
    "    return test_loss, accuracy"
   ]
  },
  {
   "cell_type": "code",
   "execution_count": null,
   "metadata": {},
   "outputs": [],
   "source": []
  },
  {
   "cell_type": "markdown",
   "metadata": {},
   "source": [
    "#### Train"
   ]
  },
  {
   "cell_type": "code",
   "execution_count": 7,
   "metadata": {},
   "outputs": [],
   "source": [
    "# some parameter\n",
    "train_losses = []\n",
    "train_accuracies = []\n",
    "test_losses = []\n",
    "test_accuracies = []\n",
    "max_epoch = 250"
   ]
  },
  {
   "cell_type": "code",
   "execution_count": 8,
   "metadata": {
    "colab": {
     "base_uri": "https://localhost:8080/"
    },
    "id": "tYwXeSOOF_4Z",
    "outputId": "a4c62a4a-267f-4101-ce96-662cc23cdbe0"
   },
   "outputs": [
    {
     "name": "stdout",
     "output_type": "stream",
     "text": [
      "Epoch [1/250], Loss: 1.3692, Accuracy: 54.26%, Test Loss: 0.8277, Test Accuracy: 72.52%\n",
      "Epoch [2/250], Loss: 0.7028, Accuracy: 76.04%, Test Loss: 0.6484, Test Accuracy: 77.70%\n",
      "Epoch [3/250], Loss: 0.5892, Accuracy: 79.73%, Test Loss: 0.5793, Test Accuracy: 79.91%\n",
      "Epoch [4/250], Loss: 0.5340, Accuracy: 81.46%, Test Loss: 0.5390, Test Accuracy: 81.28%\n",
      "Epoch [5/250], Loss: 0.4985, Accuracy: 82.75%, Test Loss: 0.5128, Test Accuracy: 82.03%\n",
      "Epoch [6/250], Loss: 0.4735, Accuracy: 83.59%, Test Loss: 0.4946, Test Accuracy: 82.63%\n",
      "Epoch [7/250], Loss: 0.4549, Accuracy: 84.20%, Test Loss: 0.4792, Test Accuracy: 83.21%\n",
      "Epoch [8/250], Loss: 0.4408, Accuracy: 84.73%, Test Loss: 0.4684, Test Accuracy: 83.45%\n",
      "Epoch [9/250], Loss: 0.4278, Accuracy: 85.15%, Test Loss: 0.4574, Test Accuracy: 83.82%\n",
      "Epoch [10/250], Loss: 0.4174, Accuracy: 85.53%, Test Loss: 0.4494, Test Accuracy: 84.02%\n",
      "Epoch [11/250], Loss: 0.4087, Accuracy: 85.84%, Test Loss: 0.4419, Test Accuracy: 84.21%\n",
      "Epoch [12/250], Loss: 0.3999, Accuracy: 86.22%, Test Loss: 0.4355, Test Accuracy: 84.38%\n",
      "Epoch [13/250], Loss: 0.3929, Accuracy: 86.27%, Test Loss: 0.4294, Test Accuracy: 84.74%\n",
      "Epoch [14/250], Loss: 0.3859, Accuracy: 86.57%, Test Loss: 0.4234, Test Accuracy: 84.95%\n",
      "Epoch [15/250], Loss: 0.3807, Accuracy: 86.72%, Test Loss: 0.4188, Test Accuracy: 85.08%\n",
      "Epoch [16/250], Loss: 0.3752, Accuracy: 86.91%, Test Loss: 0.4161, Test Accuracy: 85.13%\n",
      "Epoch [17/250], Loss: 0.3706, Accuracy: 87.00%, Test Loss: 0.4143, Test Accuracy: 85.39%\n",
      "Epoch [18/250], Loss: 0.3652, Accuracy: 87.22%, Test Loss: 0.4080, Test Accuracy: 85.35%\n",
      "Epoch [19/250], Loss: 0.3605, Accuracy: 87.35%, Test Loss: 0.4043, Test Accuracy: 85.41%\n",
      "Epoch [20/250], Loss: 0.3563, Accuracy: 87.49%, Test Loss: 0.4003, Test Accuracy: 85.54%\n",
      "Epoch [21/250], Loss: 0.3515, Accuracy: 87.64%, Test Loss: 0.3980, Test Accuracy: 85.80%\n",
      "Epoch [22/250], Loss: 0.3481, Accuracy: 87.81%, Test Loss: 0.3950, Test Accuracy: 85.94%\n",
      "Epoch [23/250], Loss: 0.3437, Accuracy: 87.94%, Test Loss: 0.3927, Test Accuracy: 86.04%\n",
      "Epoch [24/250], Loss: 0.3401, Accuracy: 88.11%, Test Loss: 0.3893, Test Accuracy: 86.09%\n",
      "Epoch [25/250], Loss: 0.3380, Accuracy: 88.14%, Test Loss: 0.3868, Test Accuracy: 86.20%\n",
      "Epoch [26/250], Loss: 0.3344, Accuracy: 88.28%, Test Loss: 0.3856, Test Accuracy: 86.18%\n",
      "Epoch [27/250], Loss: 0.3304, Accuracy: 88.44%, Test Loss: 0.3827, Test Accuracy: 86.15%\n",
      "Epoch [28/250], Loss: 0.3276, Accuracy: 88.42%, Test Loss: 0.3804, Test Accuracy: 86.20%\n",
      "Epoch [29/250], Loss: 0.3241, Accuracy: 88.64%, Test Loss: 0.3781, Test Accuracy: 86.39%\n",
      "Epoch [30/250], Loss: 0.3223, Accuracy: 88.64%, Test Loss: 0.3766, Test Accuracy: 86.38%\n",
      "Epoch [31/250], Loss: 0.3193, Accuracy: 88.81%, Test Loss: 0.3748, Test Accuracy: 86.74%\n",
      "Epoch [32/250], Loss: 0.3158, Accuracy: 88.91%, Test Loss: 0.3748, Test Accuracy: 86.49%\n",
      "Epoch [33/250], Loss: 0.3140, Accuracy: 89.00%, Test Loss: 0.3705, Test Accuracy: 86.96%\n",
      "Epoch [34/250], Loss: 0.3107, Accuracy: 89.12%, Test Loss: 0.3731, Test Accuracy: 86.54%\n",
      "Epoch [35/250], Loss: 0.3076, Accuracy: 89.22%, Test Loss: 0.3676, Test Accuracy: 86.91%\n",
      "Epoch [36/250], Loss: 0.3060, Accuracy: 89.22%, Test Loss: 0.3668, Test Accuracy: 87.07%\n",
      "Epoch [37/250], Loss: 0.3035, Accuracy: 89.33%, Test Loss: 0.3671, Test Accuracy: 86.93%\n",
      "Epoch [38/250], Loss: 0.3018, Accuracy: 89.40%, Test Loss: 0.3648, Test Accuracy: 87.00%\n",
      "Epoch [39/250], Loss: 0.2992, Accuracy: 89.50%, Test Loss: 0.3630, Test Accuracy: 87.07%\n",
      "Epoch [40/250], Loss: 0.2971, Accuracy: 89.53%, Test Loss: 0.3615, Test Accuracy: 86.97%\n",
      "Epoch [41/250], Loss: 0.2946, Accuracy: 89.69%, Test Loss: 0.3587, Test Accuracy: 87.15%\n",
      "Epoch [42/250], Loss: 0.2924, Accuracy: 89.78%, Test Loss: 0.3581, Test Accuracy: 87.16%\n",
      "Epoch [43/250], Loss: 0.2907, Accuracy: 89.78%, Test Loss: 0.3583, Test Accuracy: 87.43%\n",
      "Epoch [44/250], Loss: 0.2886, Accuracy: 89.89%, Test Loss: 0.3553, Test Accuracy: 87.38%\n",
      "Epoch [45/250], Loss: 0.2871, Accuracy: 89.92%, Test Loss: 0.3561, Test Accuracy: 87.25%\n",
      "Epoch [46/250], Loss: 0.2850, Accuracy: 89.97%, Test Loss: 0.3541, Test Accuracy: 87.30%\n",
      "Epoch [47/250], Loss: 0.2832, Accuracy: 90.12%, Test Loss: 0.3552, Test Accuracy: 87.47%\n",
      "Epoch [48/250], Loss: 0.2812, Accuracy: 90.10%, Test Loss: 0.3527, Test Accuracy: 87.45%\n",
      "Epoch [49/250], Loss: 0.2787, Accuracy: 90.27%, Test Loss: 0.3523, Test Accuracy: 87.41%\n",
      "Epoch [50/250], Loss: 0.2781, Accuracy: 90.26%, Test Loss: 0.3491, Test Accuracy: 87.36%\n",
      "Epoch [51/250], Loss: 0.2751, Accuracy: 90.38%, Test Loss: 0.3493, Test Accuracy: 87.36%\n",
      "Epoch [52/250], Loss: 0.2729, Accuracy: 90.46%, Test Loss: 0.3480, Test Accuracy: 87.54%\n",
      "Epoch [53/250], Loss: 0.2725, Accuracy: 90.55%, Test Loss: 0.3471, Test Accuracy: 87.55%\n",
      "Epoch [54/250], Loss: 0.2707, Accuracy: 90.52%, Test Loss: 0.3465, Test Accuracy: 87.63%\n",
      "Epoch [55/250], Loss: 0.2692, Accuracy: 90.64%, Test Loss: 0.3455, Test Accuracy: 87.62%\n",
      "Epoch [56/250], Loss: 0.2674, Accuracy: 90.67%, Test Loss: 0.3458, Test Accuracy: 87.61%\n",
      "Epoch [57/250], Loss: 0.2660, Accuracy: 90.68%, Test Loss: 0.3443, Test Accuracy: 87.48%\n",
      "Epoch [58/250], Loss: 0.2642, Accuracy: 90.82%, Test Loss: 0.3431, Test Accuracy: 87.61%\n",
      "Epoch [59/250], Loss: 0.2629, Accuracy: 90.84%, Test Loss: 0.3415, Test Accuracy: 87.69%\n",
      "Epoch [60/250], Loss: 0.2611, Accuracy: 90.92%, Test Loss: 0.3415, Test Accuracy: 87.68%\n",
      "Epoch [61/250], Loss: 0.2599, Accuracy: 90.99%, Test Loss: 0.3415, Test Accuracy: 87.65%\n",
      "Epoch [62/250], Loss: 0.2579, Accuracy: 91.08%, Test Loss: 0.3395, Test Accuracy: 87.53%\n",
      "Epoch [63/250], Loss: 0.2561, Accuracy: 91.10%, Test Loss: 0.3399, Test Accuracy: 87.74%\n",
      "Epoch [64/250], Loss: 0.2556, Accuracy: 91.11%, Test Loss: 0.3396, Test Accuracy: 87.60%\n",
      "Epoch [65/250], Loss: 0.2534, Accuracy: 91.15%, Test Loss: 0.3392, Test Accuracy: 87.66%\n",
      "Epoch [66/250], Loss: 0.2527, Accuracy: 91.23%, Test Loss: 0.3374, Test Accuracy: 87.89%\n",
      "Epoch [67/250], Loss: 0.2509, Accuracy: 91.26%, Test Loss: 0.3371, Test Accuracy: 87.83%\n",
      "Epoch [68/250], Loss: 0.2499, Accuracy: 91.33%, Test Loss: 0.3391, Test Accuracy: 88.02%\n",
      "Epoch [69/250], Loss: 0.2485, Accuracy: 91.33%, Test Loss: 0.3355, Test Accuracy: 87.95%\n",
      "Epoch [70/250], Loss: 0.2467, Accuracy: 91.37%, Test Loss: 0.3365, Test Accuracy: 87.95%\n",
      "Epoch [71/250], Loss: 0.2456, Accuracy: 91.46%, Test Loss: 0.3337, Test Accuracy: 88.10%\n",
      "Epoch [72/250], Loss: 0.2435, Accuracy: 91.57%, Test Loss: 0.3338, Test Accuracy: 87.85%\n",
      "Epoch [73/250], Loss: 0.2435, Accuracy: 91.61%, Test Loss: 0.3347, Test Accuracy: 88.00%\n",
      "Epoch [74/250], Loss: 0.2415, Accuracy: 91.67%, Test Loss: 0.3327, Test Accuracy: 88.11%\n",
      "Epoch [75/250], Loss: 0.2400, Accuracy: 91.63%, Test Loss: 0.3318, Test Accuracy: 87.88%\n",
      "Epoch [76/250], Loss: 0.2388, Accuracy: 91.72%, Test Loss: 0.3320, Test Accuracy: 88.10%\n",
      "Epoch [77/250], Loss: 0.2374, Accuracy: 91.75%, Test Loss: 0.3345, Test Accuracy: 88.13%\n",
      "Epoch [78/250], Loss: 0.2365, Accuracy: 91.78%, Test Loss: 0.3312, Test Accuracy: 88.11%\n",
      "Epoch [79/250], Loss: 0.2355, Accuracy: 91.85%, Test Loss: 0.3324, Test Accuracy: 88.18%\n",
      "Epoch [80/250], Loss: 0.2348, Accuracy: 91.84%, Test Loss: 0.3323, Test Accuracy: 88.19%\n",
      "Epoch [81/250], Loss: 0.2326, Accuracy: 91.98%, Test Loss: 0.3305, Test Accuracy: 88.20%\n",
      "Epoch [82/250], Loss: 0.2318, Accuracy: 91.92%, Test Loss: 0.3322, Test Accuracy: 88.02%\n",
      "Epoch [83/250], Loss: 0.2308, Accuracy: 91.96%, Test Loss: 0.3296, Test Accuracy: 88.16%\n",
      "Epoch [84/250], Loss: 0.2291, Accuracy: 92.10%, Test Loss: 0.3281, Test Accuracy: 88.25%\n",
      "Epoch [85/250], Loss: 0.2288, Accuracy: 92.07%, Test Loss: 0.3281, Test Accuracy: 88.46%\n",
      "Epoch [86/250], Loss: 0.2271, Accuracy: 92.16%, Test Loss: 0.3279, Test Accuracy: 88.29%\n",
      "Epoch [87/250], Loss: 0.2262, Accuracy: 92.25%, Test Loss: 0.3272, Test Accuracy: 88.29%\n",
      "Epoch [88/250], Loss: 0.2258, Accuracy: 92.18%, Test Loss: 0.3270, Test Accuracy: 88.34%\n",
      "Epoch [89/250], Loss: 0.2248, Accuracy: 92.20%, Test Loss: 0.3281, Test Accuracy: 88.37%\n",
      "Epoch [90/250], Loss: 0.2228, Accuracy: 92.32%, Test Loss: 0.3282, Test Accuracy: 88.08%\n",
      "Epoch [91/250], Loss: 0.2222, Accuracy: 92.31%, Test Loss: 0.3270, Test Accuracy: 88.27%\n",
      "Epoch [92/250], Loss: 0.2207, Accuracy: 92.45%, Test Loss: 0.3272, Test Accuracy: 88.34%\n",
      "Epoch [93/250], Loss: 0.2195, Accuracy: 92.42%, Test Loss: 0.3264, Test Accuracy: 88.30%\n",
      "Epoch [94/250], Loss: 0.2193, Accuracy: 92.35%, Test Loss: 0.3247, Test Accuracy: 88.30%\n",
      "Epoch [95/250], Loss: 0.2174, Accuracy: 92.52%, Test Loss: 0.3248, Test Accuracy: 88.16%\n",
      "Epoch [96/250], Loss: 0.2162, Accuracy: 92.56%, Test Loss: 0.3248, Test Accuracy: 88.31%\n",
      "Epoch [97/250], Loss: 0.2158, Accuracy: 92.59%, Test Loss: 0.3233, Test Accuracy: 88.46%\n",
      "Epoch [98/250], Loss: 0.2142, Accuracy: 92.62%, Test Loss: 0.3244, Test Accuracy: 88.41%\n",
      "Epoch [99/250], Loss: 0.2133, Accuracy: 92.66%, Test Loss: 0.3232, Test Accuracy: 88.44%\n",
      "Epoch [100/250], Loss: 0.2126, Accuracy: 92.73%, Test Loss: 0.3230, Test Accuracy: 88.31%\n",
      "Epoch [101/250], Loss: 0.2118, Accuracy: 92.73%, Test Loss: 0.3230, Test Accuracy: 88.51%\n",
      "Epoch [102/250], Loss: 0.2104, Accuracy: 92.79%, Test Loss: 0.3229, Test Accuracy: 88.49%\n",
      "Epoch [103/250], Loss: 0.2089, Accuracy: 92.77%, Test Loss: 0.3240, Test Accuracy: 88.47%\n",
      "Epoch [104/250], Loss: 0.2084, Accuracy: 92.88%, Test Loss: 0.3210, Test Accuracy: 88.60%\n",
      "Epoch [105/250], Loss: 0.2080, Accuracy: 92.90%, Test Loss: 0.3222, Test Accuracy: 88.48%\n",
      "Epoch [106/250], Loss: 0.2063, Accuracy: 92.88%, Test Loss: 0.3217, Test Accuracy: 88.58%\n",
      "Epoch [107/250], Loss: 0.2052, Accuracy: 92.87%, Test Loss: 0.3215, Test Accuracy: 88.52%\n",
      "Epoch [108/250], Loss: 0.2044, Accuracy: 93.05%, Test Loss: 0.3222, Test Accuracy: 88.51%\n",
      "Epoch [109/250], Loss: 0.2041, Accuracy: 93.05%, Test Loss: 0.3234, Test Accuracy: 88.24%\n",
      "Epoch [110/250], Loss: 0.2030, Accuracy: 93.08%, Test Loss: 0.3217, Test Accuracy: 88.41%\n",
      "Epoch [111/250], Loss: 0.2014, Accuracy: 93.13%, Test Loss: 0.3198, Test Accuracy: 88.50%\n",
      "Epoch [112/250], Loss: 0.2008, Accuracy: 93.19%, Test Loss: 0.3202, Test Accuracy: 88.51%\n",
      "Epoch [113/250], Loss: 0.2000, Accuracy: 93.22%, Test Loss: 0.3202, Test Accuracy: 88.53%\n",
      "Epoch [114/250], Loss: 0.1988, Accuracy: 93.23%, Test Loss: 0.3201, Test Accuracy: 88.71%\n",
      "Epoch [115/250], Loss: 0.1985, Accuracy: 93.27%, Test Loss: 0.3205, Test Accuracy: 88.64%\n",
      "Epoch [116/250], Loss: 0.1976, Accuracy: 93.30%, Test Loss: 0.3203, Test Accuracy: 88.68%\n",
      "Epoch [117/250], Loss: 0.1961, Accuracy: 93.36%, Test Loss: 0.3209, Test Accuracy: 88.82%\n",
      "Epoch [118/250], Loss: 0.1952, Accuracy: 93.41%, Test Loss: 0.3187, Test Accuracy: 88.49%\n",
      "Epoch [119/250], Loss: 0.1947, Accuracy: 93.41%, Test Loss: 0.3197, Test Accuracy: 88.54%\n",
      "Epoch [120/250], Loss: 0.1934, Accuracy: 93.48%, Test Loss: 0.3200, Test Accuracy: 88.59%\n",
      "Epoch [121/250], Loss: 0.1938, Accuracy: 93.40%, Test Loss: 0.3207, Test Accuracy: 88.80%\n",
      "Epoch [122/250], Loss: 0.1915, Accuracy: 93.49%, Test Loss: 0.3192, Test Accuracy: 88.60%\n",
      "Epoch [123/250], Loss: 0.1911, Accuracy: 93.53%, Test Loss: 0.3179, Test Accuracy: 88.77%\n",
      "Epoch [124/250], Loss: 0.1908, Accuracy: 93.53%, Test Loss: 0.3225, Test Accuracy: 88.55%\n",
      "Epoch [125/250], Loss: 0.1898, Accuracy: 93.63%, Test Loss: 0.3190, Test Accuracy: 88.60%\n",
      "Epoch [126/250], Loss: 0.1890, Accuracy: 93.62%, Test Loss: 0.3176, Test Accuracy: 88.54%\n",
      "Epoch [127/250], Loss: 0.1878, Accuracy: 93.67%, Test Loss: 0.3171, Test Accuracy: 88.78%\n",
      "Epoch [128/250], Loss: 0.1872, Accuracy: 93.65%, Test Loss: 0.3182, Test Accuracy: 88.87%\n",
      "Epoch [129/250], Loss: 0.1860, Accuracy: 93.75%, Test Loss: 0.3182, Test Accuracy: 88.56%\n",
      "Epoch [130/250], Loss: 0.1853, Accuracy: 93.73%, Test Loss: 0.3180, Test Accuracy: 88.56%\n",
      "Epoch [131/250], Loss: 0.1851, Accuracy: 93.80%, Test Loss: 0.3189, Test Accuracy: 88.81%\n",
      "Epoch [132/250], Loss: 0.1837, Accuracy: 93.83%, Test Loss: 0.3180, Test Accuracy: 88.81%\n",
      "Epoch [133/250], Loss: 0.1829, Accuracy: 93.90%, Test Loss: 0.3175, Test Accuracy: 88.81%\n",
      "Epoch [134/250], Loss: 0.1823, Accuracy: 93.88%, Test Loss: 0.3176, Test Accuracy: 88.69%\n",
      "Epoch [135/250], Loss: 0.1812, Accuracy: 93.92%, Test Loss: 0.3174, Test Accuracy: 88.81%\n",
      "Epoch [136/250], Loss: 0.1803, Accuracy: 94.01%, Test Loss: 0.3162, Test Accuracy: 88.84%\n",
      "Epoch [137/250], Loss: 0.1797, Accuracy: 94.00%, Test Loss: 0.3175, Test Accuracy: 88.86%\n",
      "Epoch [138/250], Loss: 0.1788, Accuracy: 94.01%, Test Loss: 0.3188, Test Accuracy: 88.80%\n",
      "Epoch [139/250], Loss: 0.1780, Accuracy: 94.05%, Test Loss: 0.3161, Test Accuracy: 88.83%\n",
      "Epoch [140/250], Loss: 0.1777, Accuracy: 94.12%, Test Loss: 0.3164, Test Accuracy: 88.96%\n",
      "Epoch [141/250], Loss: 0.1768, Accuracy: 94.12%, Test Loss: 0.3181, Test Accuracy: 88.72%\n",
      "Epoch [142/250], Loss: 0.1763, Accuracy: 94.14%, Test Loss: 0.3159, Test Accuracy: 88.88%\n",
      "Epoch [143/250], Loss: 0.1750, Accuracy: 94.20%, Test Loss: 0.3185, Test Accuracy: 88.87%\n",
      "Epoch [144/250], Loss: 0.1743, Accuracy: 94.24%, Test Loss: 0.3157, Test Accuracy: 89.04%\n",
      "Epoch [145/250], Loss: 0.1737, Accuracy: 94.25%, Test Loss: 0.3154, Test Accuracy: 88.92%\n",
      "Epoch [146/250], Loss: 0.1728, Accuracy: 94.26%, Test Loss: 0.3160, Test Accuracy: 88.84%\n",
      "Epoch [147/250], Loss: 0.1721, Accuracy: 94.26%, Test Loss: 0.3156, Test Accuracy: 89.00%\n",
      "Epoch [148/250], Loss: 0.1712, Accuracy: 94.36%, Test Loss: 0.3168, Test Accuracy: 88.92%\n",
      "Epoch [149/250], Loss: 0.1706, Accuracy: 94.41%, Test Loss: 0.3153, Test Accuracy: 88.98%\n",
      "Epoch [150/250], Loss: 0.1694, Accuracy: 94.40%, Test Loss: 0.3171, Test Accuracy: 88.91%\n",
      "Epoch [151/250], Loss: 0.1693, Accuracy: 94.44%, Test Loss: 0.3160, Test Accuracy: 88.92%\n",
      "Epoch [152/250], Loss: 0.1687, Accuracy: 94.40%, Test Loss: 0.3141, Test Accuracy: 89.15%\n",
      "Epoch [153/250], Loss: 0.1684, Accuracy: 94.40%, Test Loss: 0.3183, Test Accuracy: 88.75%\n",
      "Epoch [154/250], Loss: 0.1669, Accuracy: 94.48%, Test Loss: 0.3151, Test Accuracy: 89.07%\n",
      "Epoch [155/250], Loss: 0.1666, Accuracy: 94.53%, Test Loss: 0.3158, Test Accuracy: 88.84%\n",
      "Epoch [156/250], Loss: 0.1659, Accuracy: 94.59%, Test Loss: 0.3158, Test Accuracy: 88.99%\n",
      "Epoch [157/250], Loss: 0.1644, Accuracy: 94.64%, Test Loss: 0.3170, Test Accuracy: 88.90%\n",
      "Epoch [158/250], Loss: 0.1642, Accuracy: 94.66%, Test Loss: 0.3157, Test Accuracy: 88.97%\n",
      "Epoch [159/250], Loss: 0.1642, Accuracy: 94.58%, Test Loss: 0.3139, Test Accuracy: 89.12%\n",
      "Epoch [160/250], Loss: 0.1621, Accuracy: 94.69%, Test Loss: 0.3143, Test Accuracy: 89.09%\n",
      "Epoch [161/250], Loss: 0.1623, Accuracy: 94.68%, Test Loss: 0.3194, Test Accuracy: 88.77%\n",
      "Epoch [162/250], Loss: 0.1614, Accuracy: 94.77%, Test Loss: 0.3152, Test Accuracy: 89.13%\n",
      "Epoch [163/250], Loss: 0.1608, Accuracy: 94.73%, Test Loss: 0.3150, Test Accuracy: 89.15%\n",
      "Epoch [164/250], Loss: 0.1601, Accuracy: 94.78%, Test Loss: 0.3147, Test Accuracy: 89.14%\n",
      "Epoch [165/250], Loss: 0.1589, Accuracy: 94.84%, Test Loss: 0.3154, Test Accuracy: 89.06%\n",
      "Epoch [166/250], Loss: 0.1582, Accuracy: 94.83%, Test Loss: 0.3176, Test Accuracy: 89.03%\n",
      "Epoch [167/250], Loss: 0.1576, Accuracy: 94.92%, Test Loss: 0.3155, Test Accuracy: 89.18%\n",
      "Epoch [168/250], Loss: 0.1571, Accuracy: 94.89%, Test Loss: 0.3164, Test Accuracy: 89.04%\n",
      "Epoch [169/250], Loss: 0.1566, Accuracy: 94.96%, Test Loss: 0.3176, Test Accuracy: 89.11%\n",
      "Epoch [170/250], Loss: 0.1558, Accuracy: 94.94%, Test Loss: 0.3155, Test Accuracy: 89.22%\n",
      "Epoch [171/250], Loss: 0.1556, Accuracy: 94.99%, Test Loss: 0.3165, Test Accuracy: 89.05%\n",
      "Epoch [172/250], Loss: 0.1548, Accuracy: 95.00%, Test Loss: 0.3158, Test Accuracy: 89.00%\n",
      "Epoch [173/250], Loss: 0.1539, Accuracy: 95.02%, Test Loss: 0.3156, Test Accuracy: 89.08%\n",
      "Epoch [174/250], Loss: 0.1527, Accuracy: 95.11%, Test Loss: 0.3174, Test Accuracy: 89.20%\n",
      "Epoch [175/250], Loss: 0.1532, Accuracy: 95.08%, Test Loss: 0.3145, Test Accuracy: 89.27%\n",
      "Epoch [176/250], Loss: 0.1517, Accuracy: 95.12%, Test Loss: 0.3169, Test Accuracy: 89.08%\n",
      "Epoch [177/250], Loss: 0.1515, Accuracy: 95.11%, Test Loss: 0.3164, Test Accuracy: 89.30%\n",
      "Epoch [178/250], Loss: 0.1513, Accuracy: 95.11%, Test Loss: 0.3157, Test Accuracy: 89.20%\n",
      "Epoch [179/250], Loss: 0.1502, Accuracy: 95.10%, Test Loss: 0.3147, Test Accuracy: 89.09%\n",
      "Epoch [180/250], Loss: 0.1493, Accuracy: 95.26%, Test Loss: 0.3163, Test Accuracy: 89.07%\n",
      "Epoch [181/250], Loss: 0.1493, Accuracy: 95.21%, Test Loss: 0.3162, Test Accuracy: 89.24%\n",
      "Epoch [182/250], Loss: 0.1482, Accuracy: 95.29%, Test Loss: 0.3156, Test Accuracy: 89.23%\n",
      "Epoch [183/250], Loss: 0.1481, Accuracy: 95.23%, Test Loss: 0.3156, Test Accuracy: 89.16%\n",
      "Epoch [184/250], Loss: 0.1476, Accuracy: 95.21%, Test Loss: 0.3180, Test Accuracy: 89.02%\n",
      "Epoch [185/250], Loss: 0.1471, Accuracy: 95.26%, Test Loss: 0.3158, Test Accuracy: 89.18%\n",
      "Epoch [186/250], Loss: 0.1463, Accuracy: 95.30%, Test Loss: 0.3166, Test Accuracy: 89.29%\n",
      "Epoch [187/250], Loss: 0.1448, Accuracy: 95.44%, Test Loss: 0.3175, Test Accuracy: 88.98%\n",
      "Epoch [188/250], Loss: 0.1445, Accuracy: 95.31%, Test Loss: 0.3180, Test Accuracy: 89.12%\n",
      "Epoch [189/250], Loss: 0.1438, Accuracy: 95.40%, Test Loss: 0.3180, Test Accuracy: 89.18%\n",
      "Epoch [190/250], Loss: 0.1433, Accuracy: 95.44%, Test Loss: 0.3167, Test Accuracy: 89.13%\n",
      "Epoch [191/250], Loss: 0.1425, Accuracy: 95.49%, Test Loss: 0.3156, Test Accuracy: 89.23%\n",
      "Epoch [192/250], Loss: 0.1421, Accuracy: 95.52%, Test Loss: 0.3164, Test Accuracy: 89.16%\n",
      "Epoch [193/250], Loss: 0.1415, Accuracy: 95.51%, Test Loss: 0.3182, Test Accuracy: 89.21%\n",
      "Epoch [194/250], Loss: 0.1409, Accuracy: 95.48%, Test Loss: 0.3174, Test Accuracy: 89.17%\n",
      "Epoch [195/250], Loss: 0.1404, Accuracy: 95.55%, Test Loss: 0.3164, Test Accuracy: 89.24%\n",
      "Epoch [196/250], Loss: 0.1393, Accuracy: 95.58%, Test Loss: 0.3172, Test Accuracy: 89.25%\n",
      "Epoch [197/250], Loss: 0.1390, Accuracy: 95.63%, Test Loss: 0.3165, Test Accuracy: 89.29%\n",
      "Epoch [198/250], Loss: 0.1385, Accuracy: 95.63%, Test Loss: 0.3174, Test Accuracy: 89.01%\n",
      "Epoch [199/250], Loss: 0.1382, Accuracy: 95.63%, Test Loss: 0.3153, Test Accuracy: 89.20%\n",
      "Epoch [200/250], Loss: 0.1376, Accuracy: 95.65%, Test Loss: 0.3175, Test Accuracy: 89.08%\n",
      "Epoch [201/250], Loss: 0.1370, Accuracy: 95.73%, Test Loss: 0.3163, Test Accuracy: 89.12%\n",
      "Epoch [202/250], Loss: 0.1359, Accuracy: 95.70%, Test Loss: 0.3171, Test Accuracy: 89.35%\n",
      "Epoch [203/250], Loss: 0.1353, Accuracy: 95.77%, Test Loss: 0.3168, Test Accuracy: 89.17%\n",
      "Epoch [204/250], Loss: 0.1349, Accuracy: 95.77%, Test Loss: 0.3190, Test Accuracy: 89.19%\n",
      "Epoch [205/250], Loss: 0.1351, Accuracy: 95.73%, Test Loss: 0.3190, Test Accuracy: 89.29%\n",
      "Epoch [206/250], Loss: 0.1344, Accuracy: 95.75%, Test Loss: 0.3182, Test Accuracy: 89.23%\n",
      "Epoch [207/250], Loss: 0.1335, Accuracy: 95.87%, Test Loss: 0.3165, Test Accuracy: 89.26%\n",
      "Epoch [208/250], Loss: 0.1331, Accuracy: 95.86%, Test Loss: 0.3183, Test Accuracy: 89.19%\n",
      "Epoch [209/250], Loss: 0.1326, Accuracy: 95.83%, Test Loss: 0.3186, Test Accuracy: 89.17%\n",
      "Epoch [210/250], Loss: 0.1312, Accuracy: 95.96%, Test Loss: 0.3167, Test Accuracy: 89.20%\n",
      "Epoch [211/250], Loss: 0.1310, Accuracy: 95.94%, Test Loss: 0.3184, Test Accuracy: 89.24%\n",
      "Epoch [212/250], Loss: 0.1314, Accuracy: 95.86%, Test Loss: 0.3181, Test Accuracy: 89.28%\n",
      "Epoch [213/250], Loss: 0.1296, Accuracy: 95.95%, Test Loss: 0.3182, Test Accuracy: 89.10%\n",
      "Epoch [214/250], Loss: 0.1293, Accuracy: 95.96%, Test Loss: 0.3185, Test Accuracy: 89.36%\n",
      "Epoch [215/250], Loss: 0.1289, Accuracy: 95.99%, Test Loss: 0.3198, Test Accuracy: 89.23%\n",
      "Epoch [216/250], Loss: 0.1277, Accuracy: 96.07%, Test Loss: 0.3195, Test Accuracy: 89.09%\n",
      "Epoch [217/250], Loss: 0.1279, Accuracy: 96.08%, Test Loss: 0.3198, Test Accuracy: 89.14%\n",
      "Epoch [218/250], Loss: 0.1276, Accuracy: 96.08%, Test Loss: 0.3198, Test Accuracy: 89.09%\n",
      "Epoch [219/250], Loss: 0.1271, Accuracy: 96.11%, Test Loss: 0.3182, Test Accuracy: 89.13%\n",
      "Epoch [220/250], Loss: 0.1264, Accuracy: 96.13%, Test Loss: 0.3191, Test Accuracy: 89.13%\n",
      "Epoch [221/250], Loss: 0.1252, Accuracy: 96.23%, Test Loss: 0.3190, Test Accuracy: 89.24%\n",
      "Epoch [222/250], Loss: 0.1254, Accuracy: 96.20%, Test Loss: 0.3220, Test Accuracy: 88.93%\n",
      "Epoch [223/250], Loss: 0.1247, Accuracy: 96.16%, Test Loss: 0.3195, Test Accuracy: 89.14%\n",
      "Epoch [224/250], Loss: 0.1239, Accuracy: 96.19%, Test Loss: 0.3187, Test Accuracy: 89.10%\n",
      "Epoch [225/250], Loss: 0.1238, Accuracy: 96.17%, Test Loss: 0.3190, Test Accuracy: 89.36%\n",
      "Epoch [226/250], Loss: 0.1232, Accuracy: 96.22%, Test Loss: 0.3205, Test Accuracy: 89.16%\n",
      "Epoch [227/250], Loss: 0.1229, Accuracy: 96.24%, Test Loss: 0.3193, Test Accuracy: 89.23%\n",
      "Epoch [228/250], Loss: 0.1222, Accuracy: 96.30%, Test Loss: 0.3200, Test Accuracy: 89.11%\n",
      "Epoch [229/250], Loss: 0.1212, Accuracy: 96.34%, Test Loss: 0.3223, Test Accuracy: 89.21%\n",
      "Epoch [230/250], Loss: 0.1210, Accuracy: 96.34%, Test Loss: 0.3192, Test Accuracy: 89.28%\n",
      "Epoch [231/250], Loss: 0.1206, Accuracy: 96.27%, Test Loss: 0.3205, Test Accuracy: 89.35%\n",
      "Epoch [232/250], Loss: 0.1199, Accuracy: 96.41%, Test Loss: 0.3264, Test Accuracy: 88.99%\n",
      "Epoch [233/250], Loss: 0.1199, Accuracy: 96.34%, Test Loss: 0.3209, Test Accuracy: 89.18%\n",
      "Epoch [234/250], Loss: 0.1191, Accuracy: 96.42%, Test Loss: 0.3223, Test Accuracy: 89.31%\n",
      "Epoch [235/250], Loss: 0.1193, Accuracy: 96.32%, Test Loss: 0.3201, Test Accuracy: 89.39%\n",
      "Epoch [236/250], Loss: 0.1185, Accuracy: 96.46%, Test Loss: 0.3229, Test Accuracy: 89.35%\n",
      "Epoch [237/250], Loss: 0.1172, Accuracy: 96.52%, Test Loss: 0.3218, Test Accuracy: 89.16%\n",
      "Epoch [238/250], Loss: 0.1168, Accuracy: 96.52%, Test Loss: 0.3223, Test Accuracy: 89.24%\n",
      "Epoch [239/250], Loss: 0.1164, Accuracy: 96.53%, Test Loss: 0.3214, Test Accuracy: 89.35%\n",
      "Epoch [240/250], Loss: 0.1162, Accuracy: 96.53%, Test Loss: 0.3242, Test Accuracy: 89.27%\n",
      "Epoch [241/250], Loss: 0.1158, Accuracy: 96.54%, Test Loss: 0.3230, Test Accuracy: 89.29%\n",
      "Epoch [242/250], Loss: 0.1148, Accuracy: 96.60%, Test Loss: 0.3227, Test Accuracy: 89.18%\n",
      "Epoch [243/250], Loss: 0.1146, Accuracy: 96.60%, Test Loss: 0.3244, Test Accuracy: 89.28%\n",
      "Epoch [244/250], Loss: 0.1145, Accuracy: 96.57%, Test Loss: 0.3230, Test Accuracy: 89.12%\n",
      "Epoch [245/250], Loss: 0.1143, Accuracy: 96.57%, Test Loss: 0.3272, Test Accuracy: 89.10%\n",
      "Epoch [246/250], Loss: 0.1133, Accuracy: 96.63%, Test Loss: 0.3219, Test Accuracy: 89.18%\n",
      "Epoch [247/250], Loss: 0.1122, Accuracy: 96.73%, Test Loss: 0.3226, Test Accuracy: 89.26%\n",
      "Epoch [248/250], Loss: 0.1136, Accuracy: 96.64%, Test Loss: 0.3255, Test Accuracy: 89.27%\n",
      "Epoch [249/250], Loss: 0.1116, Accuracy: 96.68%, Test Loss: 0.3245, Test Accuracy: 89.15%\n",
      "Epoch [250/250], Loss: 0.1116, Accuracy: 96.75%, Test Loss: 0.3239, Test Accuracy: 89.35%\n"
     ]
    }
   ],
   "source": [
    "# train\n",
    "for epoch in range(max_epoch):\n",
    "    model.train()\n",
    "    running_loss = 0.0\n",
    "    running_correct = 0   # to track number of correct predictions\n",
    "    total = 0             # to track total number of samples\n",
    "\n",
    "    for i, (inputs, labels) in enumerate(trainloader, 0):\n",
    "        # Move inputs and labels to the device\n",
    "        inputs, labels = inputs.to(device), labels.to(device)\n",
    "\n",
    "        # Zero the parameter gradients\n",
    "        optimizer.zero_grad()\n",
    "\n",
    "        # Forward pass\n",
    "        outputs = model(inputs)\n",
    "        loss = criterion(outputs, labels)\n",
    "        running_loss += loss.item()\n",
    "\n",
    "        # Determine class predictions and track accuracy\n",
    "        _, predicted = torch.max(outputs.data, 1)\n",
    "        total += labels.size(0)\n",
    "        running_correct += (predicted == labels).sum().item()\n",
    "\n",
    "        # Backward pass and optimization\n",
    "        loss.backward()\n",
    "        optimizer.step()        \n",
    "\n",
    "    epoch_accuracy = 100 * running_correct / total\n",
    "    epoch_loss = running_loss / (i + 1)\n",
    "    \n",
    "    test_loss, test_accuracy = evaluate(model, testloader, criterion)\n",
    "    print(f\"Epoch [{epoch + 1}/{max_epoch}], Loss: {epoch_loss:.4f}, Accuracy: {epoch_accuracy:.2f}%, Test Loss: {test_loss:.4f}, Test Accuracy: {test_accuracy:.2f}%\")\n",
    "    \n",
    "    # save for plot\n",
    "    train_losses.append(epoch_loss)\n",
    "    train_accuracies.append(epoch_accuracy)\n",
    "    test_losses.append(test_loss)\n",
    "    test_accuracies.append(test_accuracy)"
   ]
  },
  {
   "cell_type": "code",
   "execution_count": null,
   "metadata": {
    "id": "QKFbl4unF_6t"
   },
   "outputs": [],
   "source": []
  },
  {
   "cell_type": "code",
   "execution_count": 9,
   "metadata": {
    "id": "AwIj3vrnF_8_"
   },
   "outputs": [
    {
     "data": {
      "text/plain": [
       "<matplotlib.legend.Legend at 0x7fe8f7cef610>"
      ]
     },
     "execution_count": 9,
     "metadata": {},
     "output_type": "execute_result"
    },
    {
     "data": {
      "image/png": "[encoded data removed]",
      "text/plain": [
       "<Figure size 640x480 with 1 Axes>"
      ]
     },
     "metadata": {},
     "output_type": "display_data"
    }
   ],
   "source": [
    "import matplotlib.pyplot as plt\n",
    "\n",
    "plt.plot(train_losses, label='train_losses')\n",
    "plt.plot(test_losses, label='test_losses')\n",
    "plt.legend()"
   ]
  },
  {
   "cell_type": "code",
   "execution_count": 10,
   "metadata": {
    "id": "eh3iDa8lF__H"
   },
   "outputs": [
    {
     "data": {
      "text/plain": [
       "<matplotlib.legend.Legend at 0x7fe801c2af20>"
      ]
     },
     "execution_count": 10,
     "metadata": {},
     "output_type": "execute_result"
    },
    {
     "data": {
      "image/png": "[encoded data removed]",
      "text/plain": [
       "<Figure size 640x480 with 1 Axes>"
      ]
     },
     "metadata": {},
     "output_type": "display_data"
    }
   ],
   "source": [
    "import matplotlib.pyplot as plt\n",
    "\n",
    "plt.plot(train_accuracies, label='train_accuracy')\n",
    "plt.plot(test_accuracies, label='test_accuracy')\n",
    "plt.legend()"
   ]
  },
  {
   "cell_type": "code",
   "execution_count": null,
   "metadata": {},
   "outputs": [],
   "source": []
  },
  {
   "cell_type": "code",
   "execution_count": 11,
   "metadata": {},
   "outputs": [
    {
     "data": {
      "text/plain": [
       "<matplotlib.legend.Legend at 0x7fe7e3afee30>"
      ]
     },
     "execution_count": 11,
     "metadata": {},
     "output_type": "execute_result"
    }
   ],
   "source": [
    "import matplotlib.pyplot as plt\n",
    "%matplotlib qt\n",
    "\n",
    "plt.plot(train_losses, label='train_losses')\n",
    "plt.plot(test_losses, label='test_losses')\n",
    "plt.legend()"
   ]
  },
  {
   "cell_type": "code",
   "execution_count": 12,
   "metadata": {},
   "outputs": [
    {
     "data": {
      "text/plain": [
       "<matplotlib.legend.Legend at 0x7fe7a007bc70>"
      ]
     },
     "execution_count": 12,
     "metadata": {},
     "output_type": "execute_result"
    }
   ],
   "source": [
    "import matplotlib.pyplot as plt\n",
    "%matplotlib qt\n",
    "\n",
    "plt.plot(train_accuracies, label='train_accuracy')\n",
    "plt.plot(test_accuracies, label='test_accuracy')\n",
    "plt.legend()"
   ]
  },
  {
   "cell_type": "code",
   "execution_count": null,
   "metadata": {},
   "outputs": [],
   "source": []
  }
 ],
 "metadata": {
  "accelerator": "GPU",
  "colab": {
   "gpuType": "T4",
   "provenance": []
  },
  "kernelspec": {
   "display_name": "Python 3 (ipykernel)",
   "language": "python",
   "name": "python3"
  },
  "language_info": {
   "codemirror_mode": {
    "name": "ipython",
    "version": 3
   },
   "file_extension": ".py",
   "mimetype": "text/x-python",
   "name": "python",
   "nbconvert_exporter": "python",
   "pygments_lexer": "ipython3",
   "version": "3.10.13"
  }
 },
 "nbformat": 4,
 "nbformat_minor": 4
}

{
 "cells": [
  {
   "cell_type": "code",
   "execution_count": 1,
   "metadata": {},
   "outputs": [],
   "source": [
    "import torch\n",
    "import torch.nn as nn\n",
    "import torch.optim as optim\n",
    "import torchvision\n",
    "import torchvision.transforms as transforms\n",
    "import torch.nn.init as init\n",
    "\n",
    "# Check if GPU is available\n",
    "device = torch.device(\"cuda:0\" if torch.cuda.is_available() else \"cpu\")"
   ]
  },
  {
   "cell_type": "code",
   "execution_count": null,
   "metadata": {},
   "outputs": [],
   "source": []
  },
  {
   "cell_type": "markdown",
   "metadata": {},
   "source": [
    "#### Data"
   ]
  },
  {
   "cell_type": "code",
   "execution_count": 2,
   "metadata": {},
   "outputs": [],
   "source": [
    "# Load CFashionMNIST dataset\n",
    "transform = transforms.Compose([transforms.ToTensor(), transforms.Normalize((0.5,), (0.5,))])\n",
    "\n",
    "trainset = torchvision.datasets.FashionMNIST(root='data', train=True, download=True, transform=transform)\n",
    "trainloader = torch.utils.data.DataLoader(trainset, batch_size=1024, num_workers=10, shuffle=True, drop_last=True)\n",
    "\n",
    "testset = torchvision.datasets.FashionMNIST(root='data', train=False, download=True, transform=transform)\n",
    "testloader = torch.utils.data.DataLoader(testset, batch_size=1024, num_workers=10, shuffle=False)"
   ]
  },
  {
   "cell_type": "code",
   "execution_count": 3,
   "metadata": {},
   "outputs": [
    {
     "data": {
      "image/png": "[encoded data removed]",
      "text/plain": [
       "<Figure size 640x480 with 1 Axes>"
      ]
     },
     "metadata": {},
     "output_type": "display_data"
    }
   ],
   "source": [
    "import matplotlib.pyplot as plt\n",
    "import numpy as np\n",
    "\n",
    "# Function to display the images\n",
    "def imshow(img):\n",
    "    img = img*0.5 + 0.5\n",
    "    np_img = img.numpy()\n",
    "    plt.imshow(np.transpose(np_img, (1, 2, 0)))\n",
    "    plt.show()\n",
    "\n",
    "for i, (images, labels) in enumerate(trainloader, 0):\n",
    "    # Plot some images\n",
    "    imshow(torchvision.utils.make_grid(images[:8]))  # Display 8 images from the batch\n",
    "    break"
   ]
  },
  {
   "cell_type": "code",
   "execution_count": null,
   "metadata": {},
   "outputs": [],
   "source": []
  },
  {
   "cell_type": "markdown",
   "metadata": {},
   "source": [
    "#### Model"
   ]
  },
  {
   "cell_type": "code",
   "execution_count": 4,
   "metadata": {},
   "outputs": [
    {
     "name": "stdout",
     "output_type": "stream",
     "text": [
      "Sequential(\n",
      "  (0): Flatten(start_dim=1, end_dim=-1)\n",
      "  (1): Linear(in_features=784, out_features=256, bias=True)\n",
      "  (2): ReLU()\n",
      "  (3): Linear(in_features=256, out_features=256, bias=True)\n",
      "  (4): ReLU()\n",
      "  (5): Linear(in_features=256, out_features=10, bias=True)\n",
      ")\n"
     ]
    }
   ],
   "source": [
    "model = nn.Sequential(\n",
    "    nn.Flatten(), \n",
    "    nn.Linear(784, 256),\n",
    "    nn.ReLU(),\n",
    "    nn.Linear(256, 256),\n",
    "    nn.ReLU(),\n",
    "    nn.Linear(256, 10)\n",
    ")\n",
    "\n",
    "# Initialize the weights using Xavier Glorot initialization\n",
    "for layer in model:\n",
    "    if isinstance(layer, nn.Linear):\n",
    "        init.kaiming_uniform_(layer.weight, nonlinearity='relu')\n",
    "        if layer.bias is not None:\n",
    "            layer.bias.data.fill_(0)\n",
    "            \n",
    "model = model.to(device)\n",
    "print(model)"
   ]
  },
  {
   "cell_type": "code",
   "execution_count": null,
   "metadata": {},
   "outputs": [],
   "source": []
  },
  {
   "cell_type": "markdown",
   "metadata": {},
   "source": [
    "#### Loss, Optimizer, and Evaluation Function"
   ]
  },
  {
   "cell_type": "code",
   "execution_count": 5,
   "metadata": {},
   "outputs": [],
   "source": [
    "criterion = nn.CrossEntropyLoss()\n",
    "optimizer = optim.Adam(model.parameters(), lr=0.0001)"
   ]
  },
  {
   "cell_type": "code",
   "execution_count": 6,
   "metadata": {},
   "outputs": [],
   "source": [
    "# Function to compute loss and accuracy for test set\n",
    "def evaluate(model, testloader, criterion):\n",
    "    model.eval()\n",
    "    test_loss = 0.0\n",
    "    running_correct = 0\n",
    "    total = 0\n",
    "    with torch.no_grad():\n",
    "        for images, labels in testloader:\n",
    "            # Move inputs and labels to the device\n",
    "            images, labels = images.to(device), labels.to(device)\n",
    "\n",
    "            outputs = model(images)\n",
    "            loss = criterion(outputs, labels)\n",
    "            test_loss += loss.item()\n",
    "            \n",
    "            _, predicted = torch.max(outputs.data, 1)\n",
    "            total += labels.size(0)\n",
    "            running_correct += (predicted == labels).sum().item()\n",
    "\n",
    "    accuracy = 100 * running_correct / total\n",
    "    test_loss = test_loss / len(testloader)\n",
    "    return test_loss, accuracy"
   ]
  },
  {
   "cell_type": "code",
   "execution_count": null,
   "metadata": {},
   "outputs": [],
   "source": []
  },
  {
   "cell_type": "markdown",
   "metadata": {},
   "source": [
    "#### Train"
   ]
  },
  {
   "cell_type": "code",
   "execution_count": 7,
   "metadata": {},
   "outputs": [],
   "source": [
    "# some parameter\n",
    "train_losses = []\n",
    "train_accuracies = []\n",
    "test_losses = []\n",
    "test_accuracies = []\n",
    "max_epoch = 250"
   ]
  },
  {
   "cell_type": "code",
   "execution_count": 8,
   "metadata": {
    "colab": {
     "base_uri": "https://localhost:8080/"
    },
    "id": "tYwXeSOOF_4Z",
    "outputId": "a4c62a4a-267f-4101-ce96-662cc23cdbe0"
   },
   "outputs": [
    {
     "name": "stdout",
     "output_type": "stream",
     "text": [
      "Epoch [1/250], Loss: 1.2887, Accuracy: 57.87%, Test Loss: 0.7473, Test Accuracy: 74.06%\n",
      "Epoch [2/250], Loss: 0.6268, Accuracy: 78.11%, Test Loss: 0.5813, Test Accuracy: 79.31%\n",
      "Epoch [3/250], Loss: 0.5214, Accuracy: 81.48%, Test Loss: 0.5202, Test Accuracy: 81.33%\n",
      "Epoch [4/250], Loss: 0.4715, Accuracy: 83.23%, Test Loss: 0.4885, Test Accuracy: 82.17%\n",
      "Epoch [5/250], Loss: 0.4415, Accuracy: 84.37%, Test Loss: 0.4684, Test Accuracy: 83.15%\n",
      "Epoch [6/250], Loss: 0.4194, Accuracy: 85.10%, Test Loss: 0.4511, Test Accuracy: 83.63%\n",
      "Epoch [7/250], Loss: 0.4024, Accuracy: 85.76%, Test Loss: 0.4377, Test Accuracy: 84.04%\n",
      "Epoch [8/250], Loss: 0.3877, Accuracy: 86.29%, Test Loss: 0.4294, Test Accuracy: 84.49%\n",
      "Epoch [9/250], Loss: 0.3771, Accuracy: 86.60%, Test Loss: 0.4199, Test Accuracy: 84.88%\n",
      "Epoch [10/250], Loss: 0.3662, Accuracy: 87.09%, Test Loss: 0.4132, Test Accuracy: 85.46%\n",
      "Epoch [11/250], Loss: 0.3594, Accuracy: 87.23%, Test Loss: 0.4060, Test Accuracy: 85.44%\n",
      "Epoch [12/250], Loss: 0.3500, Accuracy: 87.59%, Test Loss: 0.3998, Test Accuracy: 85.77%\n",
      "Epoch [13/250], Loss: 0.3439, Accuracy: 87.76%, Test Loss: 0.3955, Test Accuracy: 85.77%\n",
      "Epoch [14/250], Loss: 0.3361, Accuracy: 88.07%, Test Loss: 0.3892, Test Accuracy: 86.24%\n",
      "Epoch [15/250], Loss: 0.3301, Accuracy: 88.28%, Test Loss: 0.3869, Test Accuracy: 86.10%\n",
      "Epoch [16/250], Loss: 0.3249, Accuracy: 88.48%, Test Loss: 0.3803, Test Accuracy: 86.38%\n",
      "Epoch [17/250], Loss: 0.3179, Accuracy: 88.70%, Test Loss: 0.3767, Test Accuracy: 86.42%\n",
      "Epoch [18/250], Loss: 0.3135, Accuracy: 88.85%, Test Loss: 0.3788, Test Accuracy: 86.70%\n",
      "Epoch [19/250], Loss: 0.3087, Accuracy: 88.96%, Test Loss: 0.3714, Test Accuracy: 86.78%\n",
      "Epoch [20/250], Loss: 0.3043, Accuracy: 89.15%, Test Loss: 0.3689, Test Accuracy: 86.62%\n",
      "Epoch [21/250], Loss: 0.2998, Accuracy: 89.37%, Test Loss: 0.3684, Test Accuracy: 86.67%\n",
      "Epoch [22/250], Loss: 0.2969, Accuracy: 89.45%, Test Loss: 0.3643, Test Accuracy: 86.81%\n",
      "Epoch [23/250], Loss: 0.2911, Accuracy: 89.67%, Test Loss: 0.3616, Test Accuracy: 87.05%\n",
      "Epoch [24/250], Loss: 0.2876, Accuracy: 89.75%, Test Loss: 0.3589, Test Accuracy: 87.20%\n",
      "Epoch [25/250], Loss: 0.2841, Accuracy: 89.99%, Test Loss: 0.3586, Test Accuracy: 87.14%\n",
      "Epoch [26/250], Loss: 0.2810, Accuracy: 89.98%, Test Loss: 0.3569, Test Accuracy: 87.33%\n",
      "Epoch [27/250], Loss: 0.2768, Accuracy: 90.22%, Test Loss: 0.3575, Test Accuracy: 87.16%\n",
      "Epoch [28/250], Loss: 0.2739, Accuracy: 90.35%, Test Loss: 0.3511, Test Accuracy: 87.29%\n",
      "Epoch [29/250], Loss: 0.2696, Accuracy: 90.38%, Test Loss: 0.3530, Test Accuracy: 87.33%\n",
      "Epoch [30/250], Loss: 0.2676, Accuracy: 90.48%, Test Loss: 0.3482, Test Accuracy: 87.57%\n",
      "Epoch [31/250], Loss: 0.2648, Accuracy: 90.57%, Test Loss: 0.3483, Test Accuracy: 87.54%\n",
      "Epoch [32/250], Loss: 0.2599, Accuracy: 90.72%, Test Loss: 0.3488, Test Accuracy: 87.38%\n",
      "Epoch [33/250], Loss: 0.2573, Accuracy: 90.93%, Test Loss: 0.3453, Test Accuracy: 87.68%\n",
      "Epoch [34/250], Loss: 0.2541, Accuracy: 91.00%, Test Loss: 0.3420, Test Accuracy: 87.67%\n",
      "Epoch [35/250], Loss: 0.2524, Accuracy: 91.02%, Test Loss: 0.3431, Test Accuracy: 87.71%\n",
      "Epoch [36/250], Loss: 0.2487, Accuracy: 91.21%, Test Loss: 0.3388, Test Accuracy: 87.86%\n",
      "Epoch [37/250], Loss: 0.2467, Accuracy: 91.32%, Test Loss: 0.3427, Test Accuracy: 87.73%\n",
      "Epoch [38/250], Loss: 0.2444, Accuracy: 91.30%, Test Loss: 0.3397, Test Accuracy: 87.91%\n",
      "Epoch [39/250], Loss: 0.2408, Accuracy: 91.55%, Test Loss: 0.3385, Test Accuracy: 87.82%\n",
      "Epoch [40/250], Loss: 0.2388, Accuracy: 91.56%, Test Loss: 0.3393, Test Accuracy: 87.81%\n",
      "Epoch [41/250], Loss: 0.2353, Accuracy: 91.69%, Test Loss: 0.3342, Test Accuracy: 87.98%\n",
      "Epoch [42/250], Loss: 0.2350, Accuracy: 91.74%, Test Loss: 0.3346, Test Accuracy: 88.02%\n",
      "Epoch [43/250], Loss: 0.2315, Accuracy: 91.93%, Test Loss: 0.3339, Test Accuracy: 88.07%\n",
      "Epoch [44/250], Loss: 0.2285, Accuracy: 91.91%, Test Loss: 0.3352, Test Accuracy: 88.03%\n",
      "Epoch [45/250], Loss: 0.2248, Accuracy: 92.11%, Test Loss: 0.3331, Test Accuracy: 88.09%\n",
      "Epoch [46/250], Loss: 0.2258, Accuracy: 92.08%, Test Loss: 0.3338, Test Accuracy: 88.15%\n",
      "Epoch [47/250], Loss: 0.2217, Accuracy: 92.25%, Test Loss: 0.3317, Test Accuracy: 88.13%\n",
      "Epoch [48/250], Loss: 0.2194, Accuracy: 92.24%, Test Loss: 0.3331, Test Accuracy: 87.91%\n",
      "Epoch [49/250], Loss: 0.2170, Accuracy: 92.42%, Test Loss: 0.3287, Test Accuracy: 88.17%\n",
      "Epoch [50/250], Loss: 0.2153, Accuracy: 92.40%, Test Loss: 0.3300, Test Accuracy: 88.18%\n",
      "Epoch [51/250], Loss: 0.2137, Accuracy: 92.58%, Test Loss: 0.3290, Test Accuracy: 88.25%\n",
      "Epoch [52/250], Loss: 0.2117, Accuracy: 92.64%, Test Loss: 0.3316, Test Accuracy: 87.99%\n",
      "Epoch [53/250], Loss: 0.2098, Accuracy: 92.71%, Test Loss: 0.3280, Test Accuracy: 88.15%\n",
      "Epoch [54/250], Loss: 0.2078, Accuracy: 92.75%, Test Loss: 0.3287, Test Accuracy: 88.34%\n",
      "Epoch [55/250], Loss: 0.2044, Accuracy: 92.87%, Test Loss: 0.3255, Test Accuracy: 88.22%\n",
      "Epoch [56/250], Loss: 0.2032, Accuracy: 92.92%, Test Loss: 0.3296, Test Accuracy: 88.28%\n",
      "Epoch [57/250], Loss: 0.2003, Accuracy: 93.02%, Test Loss: 0.3276, Test Accuracy: 88.24%\n",
      "Epoch [58/250], Loss: 0.1992, Accuracy: 93.13%, Test Loss: 0.3290, Test Accuracy: 88.25%\n",
      "Epoch [59/250], Loss: 0.1979, Accuracy: 93.12%, Test Loss: 0.3276, Test Accuracy: 88.28%\n",
      "Epoch [60/250], Loss: 0.1978, Accuracy: 93.11%, Test Loss: 0.3256, Test Accuracy: 88.46%\n",
      "Epoch [61/250], Loss: 0.1934, Accuracy: 93.23%, Test Loss: 0.3265, Test Accuracy: 88.48%\n",
      "Epoch [62/250], Loss: 0.1915, Accuracy: 93.39%, Test Loss: 0.3245, Test Accuracy: 88.40%\n",
      "Epoch [63/250], Loss: 0.1892, Accuracy: 93.51%, Test Loss: 0.3267, Test Accuracy: 88.40%\n",
      "Epoch [64/250], Loss: 0.1869, Accuracy: 93.61%, Test Loss: 0.3235, Test Accuracy: 88.62%\n",
      "Epoch [65/250], Loss: 0.1868, Accuracy: 93.60%, Test Loss: 0.3286, Test Accuracy: 88.28%\n",
      "Epoch [66/250], Loss: 0.1838, Accuracy: 93.65%, Test Loss: 0.3252, Test Accuracy: 88.31%\n",
      "Epoch [67/250], Loss: 0.1821, Accuracy: 93.70%, Test Loss: 0.3257, Test Accuracy: 88.28%\n",
      "Epoch [68/250], Loss: 0.1812, Accuracy: 93.83%, Test Loss: 0.3255, Test Accuracy: 88.23%\n",
      "Epoch [69/250], Loss: 0.1790, Accuracy: 93.83%, Test Loss: 0.3228, Test Accuracy: 88.63%\n",
      "Epoch [70/250], Loss: 0.1780, Accuracy: 93.90%, Test Loss: 0.3241, Test Accuracy: 88.76%\n",
      "Epoch [71/250], Loss: 0.1770, Accuracy: 93.98%, Test Loss: 0.3250, Test Accuracy: 88.44%\n",
      "Epoch [72/250], Loss: 0.1736, Accuracy: 94.03%, Test Loss: 0.3241, Test Accuracy: 88.53%\n",
      "Epoch [73/250], Loss: 0.1726, Accuracy: 94.11%, Test Loss: 0.3265, Test Accuracy: 88.57%\n",
      "Epoch [74/250], Loss: 0.1708, Accuracy: 94.25%, Test Loss: 0.3227, Test Accuracy: 88.82%\n",
      "Epoch [75/250], Loss: 0.1703, Accuracy: 94.21%, Test Loss: 0.3243, Test Accuracy: 88.48%\n",
      "Epoch [76/250], Loss: 0.1681, Accuracy: 94.31%, Test Loss: 0.3278, Test Accuracy: 88.41%\n",
      "Epoch [77/250], Loss: 0.1661, Accuracy: 94.37%, Test Loss: 0.3241, Test Accuracy: 88.49%\n",
      "Epoch [78/250], Loss: 0.1644, Accuracy: 94.51%, Test Loss: 0.3234, Test Accuracy: 88.52%\n",
      "Epoch [79/250], Loss: 0.1638, Accuracy: 94.52%, Test Loss: 0.3256, Test Accuracy: 88.59%\n",
      "Epoch [80/250], Loss: 0.1621, Accuracy: 94.52%, Test Loss: 0.3241, Test Accuracy: 88.69%\n",
      "Epoch [81/250], Loss: 0.1603, Accuracy: 94.52%, Test Loss: 0.3255, Test Accuracy: 88.52%\n",
      "Epoch [82/250], Loss: 0.1582, Accuracy: 94.69%, Test Loss: 0.3251, Test Accuracy: 88.63%\n",
      "Epoch [83/250], Loss: 0.1580, Accuracy: 94.70%, Test Loss: 0.3268, Test Accuracy: 88.61%\n",
      "Epoch [84/250], Loss: 0.1560, Accuracy: 94.75%, Test Loss: 0.3246, Test Accuracy: 88.59%\n",
      "Epoch [85/250], Loss: 0.1546, Accuracy: 94.73%, Test Loss: 0.3231, Test Accuracy: 88.81%\n",
      "Epoch [86/250], Loss: 0.1533, Accuracy: 94.90%, Test Loss: 0.3246, Test Accuracy: 88.75%\n",
      "Epoch [87/250], Loss: 0.1519, Accuracy: 94.90%, Test Loss: 0.3246, Test Accuracy: 88.78%\n",
      "Epoch [88/250], Loss: 0.1492, Accuracy: 95.02%, Test Loss: 0.3277, Test Accuracy: 88.57%\n",
      "Epoch [89/250], Loss: 0.1495, Accuracy: 95.06%, Test Loss: 0.3261, Test Accuracy: 88.89%\n",
      "Epoch [90/250], Loss: 0.1477, Accuracy: 95.09%, Test Loss: 0.3252, Test Accuracy: 88.78%\n",
      "Epoch [91/250], Loss: 0.1455, Accuracy: 95.17%, Test Loss: 0.3261, Test Accuracy: 88.84%\n",
      "Epoch [92/250], Loss: 0.1453, Accuracy: 95.19%, Test Loss: 0.3258, Test Accuracy: 88.72%\n",
      "Epoch [93/250], Loss: 0.1446, Accuracy: 95.19%, Test Loss: 0.3299, Test Accuracy: 88.82%\n",
      "Epoch [94/250], Loss: 0.1429, Accuracy: 95.26%, Test Loss: 0.3299, Test Accuracy: 88.65%\n",
      "Epoch [95/250], Loss: 0.1408, Accuracy: 95.32%, Test Loss: 0.3334, Test Accuracy: 88.44%\n",
      "Epoch [96/250], Loss: 0.1403, Accuracy: 95.40%, Test Loss: 0.3283, Test Accuracy: 88.74%\n",
      "Epoch [97/250], Loss: 0.1391, Accuracy: 95.37%, Test Loss: 0.3286, Test Accuracy: 88.52%\n",
      "Epoch [98/250], Loss: 0.1370, Accuracy: 95.56%, Test Loss: 0.3317, Test Accuracy: 88.83%\n",
      "Epoch [99/250], Loss: 0.1359, Accuracy: 95.58%, Test Loss: 0.3290, Test Accuracy: 88.76%\n",
      "Epoch [100/250], Loss: 0.1357, Accuracy: 95.59%, Test Loss: 0.3288, Test Accuracy: 88.90%\n",
      "Epoch [101/250], Loss: 0.1345, Accuracy: 95.59%, Test Loss: 0.3349, Test Accuracy: 88.84%\n",
      "Epoch [102/250], Loss: 0.1327, Accuracy: 95.70%, Test Loss: 0.3279, Test Accuracy: 88.77%\n",
      "Epoch [103/250], Loss: 0.1304, Accuracy: 95.81%, Test Loss: 0.3388, Test Accuracy: 88.50%\n",
      "Epoch [104/250], Loss: 0.1298, Accuracy: 95.81%, Test Loss: 0.3316, Test Accuracy: 88.81%\n",
      "Epoch [105/250], Loss: 0.1286, Accuracy: 95.92%, Test Loss: 0.3307, Test Accuracy: 88.93%\n",
      "Epoch [106/250], Loss: 0.1264, Accuracy: 95.97%, Test Loss: 0.3302, Test Accuracy: 88.79%\n",
      "Epoch [107/250], Loss: 0.1252, Accuracy: 95.97%, Test Loss: 0.3332, Test Accuracy: 88.76%\n",
      "Epoch [108/250], Loss: 0.1261, Accuracy: 95.83%, Test Loss: 0.3319, Test Accuracy: 88.76%\n",
      "Epoch [109/250], Loss: 0.1241, Accuracy: 96.03%, Test Loss: 0.3311, Test Accuracy: 88.81%\n",
      "Epoch [110/250], Loss: 0.1220, Accuracy: 96.12%, Test Loss: 0.3313, Test Accuracy: 88.93%\n",
      "Epoch [111/250], Loss: 0.1218, Accuracy: 96.11%, Test Loss: 0.3309, Test Accuracy: 88.91%\n",
      "Epoch [112/250], Loss: 0.1198, Accuracy: 96.20%, Test Loss: 0.3328, Test Accuracy: 88.86%\n",
      "Epoch [113/250], Loss: 0.1185, Accuracy: 96.24%, Test Loss: 0.3368, Test Accuracy: 88.83%\n",
      "Epoch [114/250], Loss: 0.1179, Accuracy: 96.29%, Test Loss: 0.3365, Test Accuracy: 88.73%\n",
      "Epoch [115/250], Loss: 0.1176, Accuracy: 96.20%, Test Loss: 0.3344, Test Accuracy: 88.98%\n",
      "Epoch [116/250], Loss: 0.1166, Accuracy: 96.27%, Test Loss: 0.3372, Test Accuracy: 88.99%\n",
      "Epoch [117/250], Loss: 0.1156, Accuracy: 96.33%, Test Loss: 0.3366, Test Accuracy: 88.80%\n",
      "Epoch [118/250], Loss: 0.1133, Accuracy: 96.45%, Test Loss: 0.3380, Test Accuracy: 88.94%\n",
      "Epoch [119/250], Loss: 0.1123, Accuracy: 96.49%, Test Loss: 0.3365, Test Accuracy: 88.87%\n",
      "Epoch [120/250], Loss: 0.1103, Accuracy: 96.54%, Test Loss: 0.3409, Test Accuracy: 88.62%\n",
      "Epoch [121/250], Loss: 0.1100, Accuracy: 96.53%, Test Loss: 0.3403, Test Accuracy: 88.90%\n",
      "Epoch [122/250], Loss: 0.1087, Accuracy: 96.60%, Test Loss: 0.3423, Test Accuracy: 88.65%\n",
      "Epoch [123/250], Loss: 0.1089, Accuracy: 96.64%, Test Loss: 0.3409, Test Accuracy: 88.87%\n",
      "Epoch [124/250], Loss: 0.1065, Accuracy: 96.75%, Test Loss: 0.3415, Test Accuracy: 88.78%\n",
      "Epoch [125/250], Loss: 0.1052, Accuracy: 96.81%, Test Loss: 0.3401, Test Accuracy: 88.91%\n",
      "Epoch [126/250], Loss: 0.1057, Accuracy: 96.69%, Test Loss: 0.3449, Test Accuracy: 88.75%\n",
      "Epoch [127/250], Loss: 0.1040, Accuracy: 96.87%, Test Loss: 0.3387, Test Accuracy: 88.93%\n",
      "Epoch [128/250], Loss: 0.1021, Accuracy: 96.88%, Test Loss: 0.3413, Test Accuracy: 88.88%\n",
      "Epoch [129/250], Loss: 0.0998, Accuracy: 97.07%, Test Loss: 0.3437, Test Accuracy: 88.80%\n",
      "Epoch [130/250], Loss: 0.1011, Accuracy: 96.97%, Test Loss: 0.3437, Test Accuracy: 88.80%\n",
      "Epoch [131/250], Loss: 0.0991, Accuracy: 97.02%, Test Loss: 0.3442, Test Accuracy: 88.90%\n",
      "Epoch [132/250], Loss: 0.0992, Accuracy: 97.01%, Test Loss: 0.3459, Test Accuracy: 89.01%\n",
      "Epoch [133/250], Loss: 0.0978, Accuracy: 97.05%, Test Loss: 0.3498, Test Accuracy: 88.94%\n",
      "Epoch [134/250], Loss: 0.0972, Accuracy: 97.07%, Test Loss: 0.3464, Test Accuracy: 88.83%\n",
      "Epoch [135/250], Loss: 0.0947, Accuracy: 97.20%, Test Loss: 0.3450, Test Accuracy: 89.13%\n",
      "Epoch [136/250], Loss: 0.0949, Accuracy: 97.13%, Test Loss: 0.3474, Test Accuracy: 89.16%\n",
      "Epoch [137/250], Loss: 0.0954, Accuracy: 97.18%, Test Loss: 0.3561, Test Accuracy: 88.79%\n",
      "Epoch [138/250], Loss: 0.0935, Accuracy: 97.24%, Test Loss: 0.3507, Test Accuracy: 88.88%\n",
      "Epoch [139/250], Loss: 0.0935, Accuracy: 97.29%, Test Loss: 0.3545, Test Accuracy: 88.76%\n",
      "Epoch [140/250], Loss: 0.0912, Accuracy: 97.34%, Test Loss: 0.3550, Test Accuracy: 88.90%\n",
      "Epoch [141/250], Loss: 0.0914, Accuracy: 97.35%, Test Loss: 0.3518, Test Accuracy: 88.99%\n",
      "Epoch [142/250], Loss: 0.0895, Accuracy: 97.40%, Test Loss: 0.3563, Test Accuracy: 88.75%\n",
      "Epoch [143/250], Loss: 0.0884, Accuracy: 97.45%, Test Loss: 0.3528, Test Accuracy: 88.80%\n",
      "Epoch [144/250], Loss: 0.0873, Accuracy: 97.52%, Test Loss: 0.3540, Test Accuracy: 88.86%\n",
      "Epoch [145/250], Loss: 0.0867, Accuracy: 97.52%, Test Loss: 0.3553, Test Accuracy: 88.99%\n",
      "Epoch [146/250], Loss: 0.0850, Accuracy: 97.63%, Test Loss: 0.3595, Test Accuracy: 88.83%\n",
      "Epoch [147/250], Loss: 0.0868, Accuracy: 97.53%, Test Loss: 0.3593, Test Accuracy: 89.08%\n",
      "Epoch [148/250], Loss: 0.0849, Accuracy: 97.55%, Test Loss: 0.3599, Test Accuracy: 89.08%\n",
      "Epoch [149/250], Loss: 0.0827, Accuracy: 97.69%, Test Loss: 0.3618, Test Accuracy: 88.66%\n",
      "Epoch [150/250], Loss: 0.0822, Accuracy: 97.71%, Test Loss: 0.3615, Test Accuracy: 89.03%\n",
      "Epoch [151/250], Loss: 0.0806, Accuracy: 97.79%, Test Loss: 0.3611, Test Accuracy: 89.06%\n",
      "Epoch [152/250], Loss: 0.0814, Accuracy: 97.73%, Test Loss: 0.3619, Test Accuracy: 88.94%\n",
      "Epoch [153/250], Loss: 0.0803, Accuracy: 97.76%, Test Loss: 0.3635, Test Accuracy: 88.82%\n",
      "Epoch [154/250], Loss: 0.0796, Accuracy: 97.75%, Test Loss: 0.3659, Test Accuracy: 88.94%\n",
      "Epoch [155/250], Loss: 0.0789, Accuracy: 97.80%, Test Loss: 0.3664, Test Accuracy: 88.93%\n",
      "Epoch [156/250], Loss: 0.0770, Accuracy: 97.89%, Test Loss: 0.3650, Test Accuracy: 88.94%\n",
      "Epoch [157/250], Loss: 0.0765, Accuracy: 97.96%, Test Loss: 0.3659, Test Accuracy: 88.86%\n",
      "Epoch [158/250], Loss: 0.0767, Accuracy: 97.90%, Test Loss: 0.3710, Test Accuracy: 89.02%\n",
      "Epoch [159/250], Loss: 0.0757, Accuracy: 97.95%, Test Loss: 0.3688, Test Accuracy: 88.84%\n",
      "Epoch [160/250], Loss: 0.0753, Accuracy: 97.94%, Test Loss: 0.3676, Test Accuracy: 89.06%\n",
      "Epoch [161/250], Loss: 0.0732, Accuracy: 98.02%, Test Loss: 0.3685, Test Accuracy: 89.20%\n",
      "Epoch [162/250], Loss: 0.0731, Accuracy: 98.02%, Test Loss: 0.3693, Test Accuracy: 89.01%\n",
      "Epoch [163/250], Loss: 0.0739, Accuracy: 97.99%, Test Loss: 0.3732, Test Accuracy: 89.07%\n",
      "Epoch [164/250], Loss: 0.0726, Accuracy: 98.06%, Test Loss: 0.3724, Test Accuracy: 88.98%\n",
      "Epoch [165/250], Loss: 0.0706, Accuracy: 98.12%, Test Loss: 0.3743, Test Accuracy: 88.99%\n",
      "Epoch [166/250], Loss: 0.0704, Accuracy: 98.12%, Test Loss: 0.3723, Test Accuracy: 89.10%\n",
      "Epoch [167/250], Loss: 0.0701, Accuracy: 98.09%, Test Loss: 0.3783, Test Accuracy: 89.05%\n",
      "Epoch [168/250], Loss: 0.0688, Accuracy: 98.21%, Test Loss: 0.3740, Test Accuracy: 89.08%\n",
      "Epoch [169/250], Loss: 0.0676, Accuracy: 98.28%, Test Loss: 0.3785, Test Accuracy: 89.01%\n",
      "Epoch [170/250], Loss: 0.0670, Accuracy: 98.24%, Test Loss: 0.3743, Test Accuracy: 88.97%\n",
      "Epoch [171/250], Loss: 0.0658, Accuracy: 98.38%, Test Loss: 0.3800, Test Accuracy: 89.16%\n",
      "Epoch [172/250], Loss: 0.0649, Accuracy: 98.35%, Test Loss: 0.3792, Test Accuracy: 89.01%\n",
      "Epoch [173/250], Loss: 0.0649, Accuracy: 98.36%, Test Loss: 0.3834, Test Accuracy: 88.96%\n",
      "Epoch [174/250], Loss: 0.0647, Accuracy: 98.32%, Test Loss: 0.3781, Test Accuracy: 89.07%\n",
      "Epoch [175/250], Loss: 0.0637, Accuracy: 98.34%, Test Loss: 0.3806, Test Accuracy: 88.99%\n",
      "Epoch [176/250], Loss: 0.0632, Accuracy: 98.44%, Test Loss: 0.3825, Test Accuracy: 89.12%\n",
      "Epoch [177/250], Loss: 0.0629, Accuracy: 98.42%, Test Loss: 0.3862, Test Accuracy: 88.90%\n",
      "Epoch [178/250], Loss: 0.0616, Accuracy: 98.45%, Test Loss: 0.3836, Test Accuracy: 89.03%\n",
      "Epoch [179/250], Loss: 0.0613, Accuracy: 98.48%, Test Loss: 0.3857, Test Accuracy: 89.06%\n",
      "Epoch [180/250], Loss: 0.0598, Accuracy: 98.57%, Test Loss: 0.3859, Test Accuracy: 89.10%\n",
      "Epoch [181/250], Loss: 0.0592, Accuracy: 98.58%, Test Loss: 0.3938, Test Accuracy: 88.90%\n",
      "Epoch [182/250], Loss: 0.0590, Accuracy: 98.55%, Test Loss: 0.3892, Test Accuracy: 88.74%\n",
      "Epoch [183/250], Loss: 0.0581, Accuracy: 98.58%, Test Loss: 0.3895, Test Accuracy: 89.14%\n",
      "Epoch [184/250], Loss: 0.0575, Accuracy: 98.60%, Test Loss: 0.3943, Test Accuracy: 89.05%\n",
      "Epoch [185/250], Loss: 0.0568, Accuracy: 98.65%, Test Loss: 0.3949, Test Accuracy: 88.69%\n",
      "Epoch [186/250], Loss: 0.0573, Accuracy: 98.61%, Test Loss: 0.3929, Test Accuracy: 88.94%\n",
      "Epoch [187/250], Loss: 0.0555, Accuracy: 98.66%, Test Loss: 0.3944, Test Accuracy: 89.23%\n",
      "Epoch [188/250], Loss: 0.0558, Accuracy: 98.65%, Test Loss: 0.3974, Test Accuracy: 89.10%\n",
      "Epoch [189/250], Loss: 0.0545, Accuracy: 98.71%, Test Loss: 0.4026, Test Accuracy: 89.12%\n",
      "Epoch [190/250], Loss: 0.0537, Accuracy: 98.75%, Test Loss: 0.4016, Test Accuracy: 89.17%\n",
      "Epoch [191/250], Loss: 0.0531, Accuracy: 98.76%, Test Loss: 0.3995, Test Accuracy: 89.13%\n",
      "Epoch [192/250], Loss: 0.0527, Accuracy: 98.81%, Test Loss: 0.4039, Test Accuracy: 88.94%\n",
      "Epoch [193/250], Loss: 0.0525, Accuracy: 98.74%, Test Loss: 0.4008, Test Accuracy: 89.14%\n",
      "Epoch [194/250], Loss: 0.0520, Accuracy: 98.76%, Test Loss: 0.4018, Test Accuracy: 88.60%\n",
      "Epoch [195/250], Loss: 0.0520, Accuracy: 98.76%, Test Loss: 0.4046, Test Accuracy: 88.84%\n",
      "Epoch [196/250], Loss: 0.0498, Accuracy: 98.84%, Test Loss: 0.4029, Test Accuracy: 88.94%\n",
      "Epoch [197/250], Loss: 0.0500, Accuracy: 98.90%, Test Loss: 0.4061, Test Accuracy: 88.95%\n",
      "Epoch [198/250], Loss: 0.0506, Accuracy: 98.81%, Test Loss: 0.4056, Test Accuracy: 89.05%\n",
      "Epoch [199/250], Loss: 0.0480, Accuracy: 98.99%, Test Loss: 0.4041, Test Accuracy: 88.94%\n",
      "Epoch [200/250], Loss: 0.0487, Accuracy: 98.92%, Test Loss: 0.4075, Test Accuracy: 89.00%\n",
      "Epoch [201/250], Loss: 0.0477, Accuracy: 98.93%, Test Loss: 0.4100, Test Accuracy: 88.98%\n",
      "Epoch [202/250], Loss: 0.0465, Accuracy: 99.01%, Test Loss: 0.4110, Test Accuracy: 89.28%\n",
      "Epoch [203/250], Loss: 0.0470, Accuracy: 98.96%, Test Loss: 0.4100, Test Accuracy: 89.02%\n",
      "Epoch [204/250], Loss: 0.0450, Accuracy: 99.04%, Test Loss: 0.4129, Test Accuracy: 88.92%\n",
      "Epoch [205/250], Loss: 0.0450, Accuracy: 99.03%, Test Loss: 0.4190, Test Accuracy: 88.76%\n",
      "Epoch [206/250], Loss: 0.0441, Accuracy: 99.06%, Test Loss: 0.4121, Test Accuracy: 89.05%\n",
      "Epoch [207/250], Loss: 0.0444, Accuracy: 99.07%, Test Loss: 0.4161, Test Accuracy: 89.11%\n",
      "Epoch [208/250], Loss: 0.0441, Accuracy: 99.03%, Test Loss: 0.4205, Test Accuracy: 88.80%\n",
      "Epoch [209/250], Loss: 0.0432, Accuracy: 99.09%, Test Loss: 0.4198, Test Accuracy: 88.99%\n",
      "Epoch [210/250], Loss: 0.0433, Accuracy: 99.07%, Test Loss: 0.4203, Test Accuracy: 88.94%\n",
      "Epoch [211/250], Loss: 0.0426, Accuracy: 99.13%, Test Loss: 0.4224, Test Accuracy: 88.97%\n",
      "Epoch [212/250], Loss: 0.0420, Accuracy: 99.12%, Test Loss: 0.4234, Test Accuracy: 88.71%\n",
      "Epoch [213/250], Loss: 0.0418, Accuracy: 99.12%, Test Loss: 0.4238, Test Accuracy: 89.05%\n",
      "Epoch [214/250], Loss: 0.0410, Accuracy: 99.21%, Test Loss: 0.4324, Test Accuracy: 88.77%\n",
      "Epoch [215/250], Loss: 0.0411, Accuracy: 99.17%, Test Loss: 0.4331, Test Accuracy: 89.16%\n",
      "Epoch [216/250], Loss: 0.0393, Accuracy: 99.28%, Test Loss: 0.4264, Test Accuracy: 89.07%\n",
      "Epoch [217/250], Loss: 0.0386, Accuracy: 99.30%, Test Loss: 0.4315, Test Accuracy: 89.12%\n",
      "Epoch [218/250], Loss: 0.0391, Accuracy: 99.23%, Test Loss: 0.4294, Test Accuracy: 88.89%\n",
      "Epoch [219/250], Loss: 0.0387, Accuracy: 99.24%, Test Loss: 0.4309, Test Accuracy: 88.99%\n",
      "Epoch [220/250], Loss: 0.0373, Accuracy: 99.33%, Test Loss: 0.4322, Test Accuracy: 88.99%\n",
      "Epoch [221/250], Loss: 0.0370, Accuracy: 99.31%, Test Loss: 0.4323, Test Accuracy: 89.08%\n",
      "Epoch [222/250], Loss: 0.0376, Accuracy: 99.26%, Test Loss: 0.4397, Test Accuracy: 89.07%\n",
      "Epoch [223/250], Loss: 0.0361, Accuracy: 99.34%, Test Loss: 0.4425, Test Accuracy: 88.94%\n",
      "Epoch [224/250], Loss: 0.0374, Accuracy: 99.24%, Test Loss: 0.4449, Test Accuracy: 88.99%\n",
      "Epoch [225/250], Loss: 0.0369, Accuracy: 99.28%, Test Loss: 0.4407, Test Accuracy: 89.08%\n",
      "Epoch [226/250], Loss: 0.0363, Accuracy: 99.29%, Test Loss: 0.4423, Test Accuracy: 89.02%\n",
      "Epoch [227/250], Loss: 0.0351, Accuracy: 99.35%, Test Loss: 0.4471, Test Accuracy: 89.06%\n",
      "Epoch [228/250], Loss: 0.0348, Accuracy: 99.38%, Test Loss: 0.4430, Test Accuracy: 88.93%\n",
      "Epoch [229/250], Loss: 0.0332, Accuracy: 99.45%, Test Loss: 0.4473, Test Accuracy: 88.76%\n",
      "Epoch [230/250], Loss: 0.0342, Accuracy: 99.41%, Test Loss: 0.4440, Test Accuracy: 89.13%\n",
      "Epoch [231/250], Loss: 0.0334, Accuracy: 99.41%, Test Loss: 0.4473, Test Accuracy: 89.13%\n",
      "Epoch [232/250], Loss: 0.0329, Accuracy: 99.40%, Test Loss: 0.4469, Test Accuracy: 89.07%\n",
      "Epoch [233/250], Loss: 0.0327, Accuracy: 99.41%, Test Loss: 0.4511, Test Accuracy: 89.00%\n",
      "Epoch [234/250], Loss: 0.0326, Accuracy: 99.39%, Test Loss: 0.4531, Test Accuracy: 88.79%\n",
      "Epoch [235/250], Loss: 0.0316, Accuracy: 99.48%, Test Loss: 0.4507, Test Accuracy: 89.13%\n",
      "Epoch [236/250], Loss: 0.0310, Accuracy: 99.47%, Test Loss: 0.4538, Test Accuracy: 88.93%\n",
      "Epoch [237/250], Loss: 0.0312, Accuracy: 99.47%, Test Loss: 0.4574, Test Accuracy: 88.82%\n",
      "Epoch [238/250], Loss: 0.0308, Accuracy: 99.49%, Test Loss: 0.4554, Test Accuracy: 89.01%\n",
      "Epoch [239/250], Loss: 0.0302, Accuracy: 99.47%, Test Loss: 0.4581, Test Accuracy: 88.97%\n",
      "Epoch [240/250], Loss: 0.0295, Accuracy: 99.52%, Test Loss: 0.4587, Test Accuracy: 89.05%\n",
      "Epoch [241/250], Loss: 0.0295, Accuracy: 99.53%, Test Loss: 0.4582, Test Accuracy: 88.93%\n",
      "Epoch [242/250], Loss: 0.0288, Accuracy: 99.58%, Test Loss: 0.4652, Test Accuracy: 89.01%\n",
      "Epoch [243/250], Loss: 0.0293, Accuracy: 99.49%, Test Loss: 0.4638, Test Accuracy: 89.00%\n",
      "Epoch [244/250], Loss: 0.0281, Accuracy: 99.58%, Test Loss: 0.4644, Test Accuracy: 88.98%\n",
      "Epoch [245/250], Loss: 0.0278, Accuracy: 99.58%, Test Loss: 0.4622, Test Accuracy: 89.11%\n",
      "Epoch [246/250], Loss: 0.0282, Accuracy: 99.56%, Test Loss: 0.4659, Test Accuracy: 88.91%\n",
      "Epoch [247/250], Loss: 0.0272, Accuracy: 99.59%, Test Loss: 0.4730, Test Accuracy: 89.08%\n",
      "Epoch [248/250], Loss: 0.0273, Accuracy: 99.58%, Test Loss: 0.4724, Test Accuracy: 89.18%\n",
      "Epoch [249/250], Loss: 0.0261, Accuracy: 99.61%, Test Loss: 0.4707, Test Accuracy: 88.95%\n",
      "Epoch [250/250], Loss: 0.0263, Accuracy: 99.60%, Test Loss: 0.4770, Test Accuracy: 89.16%\n"
     ]
    }
   ],
   "source": [
    "# train\n",
    "for epoch in range(max_epoch):\n",
    "    model.train()\n",
    "    running_loss = 0.0\n",
    "    running_correct = 0   # to track number of correct predictions\n",
    "    total = 0             # to track total number of samples\n",
    "\n",
    "    for i, (inputs, labels) in enumerate(trainloader, 0):\n",
    "        # Move inputs and labels to the device\n",
    "        inputs, labels = inputs.to(device), labels.to(device)\n",
    "\n",
    "        # Zero the parameter gradients\n",
    "        optimizer.zero_grad()\n",
    "\n",
    "        # Forward pass\n",
    "        outputs = model(inputs)\n",
    "        loss = criterion(outputs, labels)\n",
    "        running_loss += loss.item()\n",
    "\n",
    "        # Determine class predictions and track accuracy\n",
    "        _, predicted = torch.max(outputs.data, 1)\n",
    "        total += labels.size(0)\n",
    "        running_correct += (predicted == labels).sum().item()\n",
    "\n",
    "        # Backward pass and optimization\n",
    "        loss.backward()\n",
    "        optimizer.step()        \n",
    "\n",
    "    epoch_accuracy = 100 * running_correct / total\n",
    "    epoch_loss = running_loss / (i + 1)\n",
    "    \n",
    "    test_loss, test_accuracy = evaluate(model, testloader, criterion)\n",
    "    print(f\"Epoch [{epoch + 1}/{max_epoch}], Loss: {epoch_loss:.4f}, Accuracy: {epoch_accuracy:.2f}%, Test Loss: {test_loss:.4f}, Test Accuracy: {test_accuracy:.2f}%\")\n",
    "    \n",
    "    # save for plot\n",
    "    train_losses.append(epoch_loss)\n",
    "    train_accuracies.append(epoch_accuracy)\n",
    "    test_losses.append(test_loss)\n",
    "    test_accuracies.append(test_accuracy)"
   ]
  },
  {
   "cell_type": "code",
   "execution_count": null,
   "metadata": {
    "id": "QKFbl4unF_6t"
   },
   "outputs": [],
   "source": []
  },
  {
   "cell_type": "code",
   "execution_count": 9,
   "metadata": {
    "id": "AwIj3vrnF_8_"
   },
   "outputs": [
    {
     "data": {
      "text/plain": [
       "<matplotlib.legend.Legend at 0x7f06874bf2e0>"
      ]
     },
     "execution_count": 9,
     "metadata": {},
     "output_type": "execute_result"
    },
    {
     "data": {
      "image/png": "[encoded data removed]",
      "text/plain": [
       "<Figure size 640x480 with 1 Axes>"
      ]
     },
     "metadata": {},
     "output_type": "display_data"
    }
   ],
   "source": [
    "import matplotlib.pyplot as plt\n",
    "\n",
    "plt.plot(train_losses, label='train_losses')\n",
    "plt.plot(test_losses, label='test_losses')\n",
    "plt.legend()"
   ]
  },
  {
   "cell_type": "code",
   "execution_count": 10,
   "metadata": {
    "id": "eh3iDa8lF__H"
   },
   "outputs": [
    {
     "data": {
      "text/plain": [
       "<matplotlib.legend.Legend at 0x7f0664763820>"
      ]
     },
     "execution_count": 10,
     "metadata": {},
     "output_type": "execute_result"
    },
    {
     "data": {
      "image/png": "[encoded data removed]",
      "text/plain": [
       "<Figure size 640x480 with 1 Axes>"
      ]
     },
     "metadata": {},
     "output_type": "display_data"
    }
   ],
   "source": [
    "import matplotlib.pyplot as plt\n",
    "\n",
    "plt.plot(train_accuracies, label='train_accuracy')\n",
    "plt.plot(test_accuracies, label='test_accuracy')\n",
    "plt.legend()"
   ]
  },
  {
   "cell_type": "code",
   "execution_count": null,
   "metadata": {},
   "outputs": [],
   "source": []
  },
  {
   "cell_type": "code",
   "execution_count": 11,
   "metadata": {},
   "outputs": [
    {
     "data": {
      "text/plain": [
       "<matplotlib.legend.Legend at 0x7f063f8cee00>"
      ]
     },
     "execution_count": 11,
     "metadata": {},
     "output_type": "execute_result"
    }
   ],
   "source": [
    "import matplotlib.pyplot as plt\n",
    "%matplotlib qt\n",
    "\n",
    "plt.plot(train_losses, label='train_losses')\n",
    "plt.plot(test_losses, label='test_losses')\n",
    "plt.legend()"
   ]
  },
  {
   "cell_type": "code",
   "execution_count": 12,
   "metadata": {},
   "outputs": [
    {
     "data": {
      "text/plain": [
       "<matplotlib.legend.Legend at 0x7f05e084a6e0>"
      ]
     },
     "execution_count": 12,
     "metadata": {},
     "output_type": "execute_result"
    }
   ],
   "source": [
    "import matplotlib.pyplot as plt\n",
    "%matplotlib qt\n",
    "\n",
    "plt.plot(train_accuracies, label='train_accuracy')\n",
    "plt.plot(test_accuracies, label='test_accuracy')\n",
    "plt.legend()"
   ]
  },
  {
   "cell_type": "code",
   "execution_count": null,
   "metadata": {},
   "outputs": [],
   "source": []
  }
 ],
 "metadata": {
  "accelerator": "GPU",
  "colab": {
   "gpuType": "T4",
   "provenance": []
  },
  "kernelspec": {
   "display_name": "Python 3 (ipykernel)",
   "language": "python",
   "name": "python3"
  },
  "language_info": {
   "codemirror_mode": {
    "name": "ipython",
    "version": 3
   },
   "file_extension": ".py",
   "mimetype": "text/x-python",
   "name": "python",
   "nbconvert_exporter": "python",
   "pygments_lexer": "ipython3",
   "version": "3.10.13"
  }
 },
 "nbformat": 4,
 "nbformat_minor": 4
}

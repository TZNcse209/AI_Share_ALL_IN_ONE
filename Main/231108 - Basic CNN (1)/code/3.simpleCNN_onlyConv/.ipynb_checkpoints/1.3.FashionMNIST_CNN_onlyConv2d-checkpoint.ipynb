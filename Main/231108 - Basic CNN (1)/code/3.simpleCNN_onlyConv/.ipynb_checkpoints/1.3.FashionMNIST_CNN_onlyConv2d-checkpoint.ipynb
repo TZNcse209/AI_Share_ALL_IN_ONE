{
 "cells": [
  {
   "cell_type": "code",
   "execution_count": 1,
   "metadata": {},
   "outputs": [],
   "source": [
    "import torch\n",
    "import torch.nn as nn\n",
    "import torch.optim as optim\n",
    "import torchvision\n",
    "import torchvision.transforms as transforms\n",
    "import torch.nn.init as init\n",
    "\n",
    "# Check if GPU is available\n",
    "device = torch.device(\"cuda:0\" if torch.cuda.is_available() else \"cpu\")"
   ]
  },
  {
   "cell_type": "code",
   "execution_count": null,
   "metadata": {},
   "outputs": [],
   "source": []
  },
  {
   "cell_type": "markdown",
   "metadata": {},
   "source": [
    "#### Data"
   ]
  },
  {
   "cell_type": "code",
   "execution_count": 2,
   "metadata": {},
   "outputs": [],
   "source": [
    "# Load CFashionMNIST dataset\n",
    "transform = transforms.Compose([transforms.ToTensor(), transforms.Normalize((0.5,), (0.5,))])\n",
    "\n",
    "trainset = torchvision.datasets.FashionMNIST(root='data', train=True, download=True, transform=transform)\n",
    "trainloader = torch.utils.data.DataLoader(trainset, batch_size=1024, num_workers=10, shuffle=True, drop_last=True)\n",
    "\n",
    "testset = torchvision.datasets.FashionMNIST(root='data', train=False, download=True, transform=transform)\n",
    "testloader = torch.utils.data.DataLoader(testset, batch_size=1024, num_workers=10, shuffle=False)"
   ]
  },
  {
   "cell_type": "code",
   "execution_count": 3,
   "metadata": {},
   "outputs": [
    {
     "data": {
      "image/png": "[encoded data removed]",
      "text/plain": [
       "<Figure size 640x480 with 1 Axes>"
      ]
     },
     "metadata": {},
     "output_type": "display_data"
    }
   ],
   "source": [
    "import matplotlib.pyplot as plt\n",
    "import numpy as np\n",
    "\n",
    "# Function to display the images\n",
    "def imshow(img):\n",
    "    img = img*0.5 + 0.5\n",
    "    np_img = img.numpy()\n",
    "    plt.imshow(np.transpose(np_img, (1, 2, 0)))\n",
    "    plt.show()\n",
    "\n",
    "for i, (images, labels) in enumerate(trainloader, 0):\n",
    "    # Plot some images\n",
    "    imshow(torchvision.utils.make_grid(images[:8]))  # Display 8 images from the batch\n",
    "    break"
   ]
  },
  {
   "cell_type": "code",
   "execution_count": null,
   "metadata": {},
   "outputs": [],
   "source": []
  },
  {
   "cell_type": "markdown",
   "metadata": {},
   "source": [
    "#### Model"
   ]
  },
  {
   "cell_type": "code",
   "execution_count": 4,
   "metadata": {},
   "outputs": [
    {
     "name": "stdout",
     "output_type": "stream",
     "text": [
      "----------------------------------------------------------------\n",
      "        Layer (type)               Output Shape         Param #\n",
      "================================================================\n",
      "            Conv2d-1           [-1, 32, 22, 22]           1,600\n",
      "              ReLU-2           [-1, 32, 22, 22]               0\n",
      "            Conv2d-3           [-1, 64, 16, 16]         100,416\n",
      "              ReLU-4           [-1, 64, 16, 16]               0\n",
      "            Conv2d-5          [-1, 128, 10, 10]         401,536\n",
      "              ReLU-6          [-1, 128, 10, 10]               0\n",
      "            Conv2d-7            [-1, 256, 4, 4]       1,605,888\n",
      "              ReLU-8            [-1, 256, 4, 4]               0\n",
      "           Flatten-9                 [-1, 4096]               0\n",
      "           Linear-10                  [-1, 128]         524,416\n",
      "             ReLU-11                  [-1, 128]               0\n",
      "           Linear-12                   [-1, 10]           1,290\n",
      "================================================================\n",
      "Total params: 2,635,146\n",
      "Trainable params: 2,635,146\n",
      "Non-trainable params: 0\n",
      "----------------------------------------------------------------\n",
      "Input size (MB): 0.00\n",
      "Forward/backward pass size (MB): 0.78\n",
      "Params size (MB): 10.05\n",
      "Estimated Total Size (MB): 10.83\n",
      "----------------------------------------------------------------\n"
     ]
    }
   ],
   "source": [
    "import torch\n",
    "import torch.nn as nn\n",
    "from torchsummary import summary\n",
    "\n",
    "class CustomModel(nn.Module):\n",
    "    def __init__(self):\n",
    "        super(CustomModel, self).__init__()\n",
    "        self.conv1 = nn.Conv2d(1, 32, kernel_size=7)\n",
    "        self.conv2 = nn.Conv2d(32, 64, kernel_size=7)\n",
    "        self.conv3 = nn.Conv2d(64, 128, kernel_size=7)\n",
    "        self.conv4 = nn.Conv2d(128, 256, kernel_size=7)\n",
    "        self.flatten = nn.Flatten()\n",
    "        self.dense1 = nn.Linear(4*4*256, 128)\n",
    "        self.dense2 = nn.Linear(128, 10)\n",
    "        self.relu = nn.ReLU()\n",
    "        \n",
    "    def forward(self, x):\n",
    "        x = self.relu(self.conv1(x))\n",
    "        x = self.relu(self.conv2(x))\n",
    "        x = self.relu(self.conv3(x))\n",
    "        x = self.relu(self.conv4(x))\n",
    "        x = self.flatten(x)\n",
    "        x = self.relu(self.dense1(x))\n",
    "        x = self.dense2(x)\n",
    "        return x\n",
    "\n",
    "model = CustomModel()\n",
    "model = model.to(device)\n",
    "\n",
    "# Print model\n",
    "summary(model, (1, 28, 28))"
   ]
  },
  {
   "cell_type": "code",
   "execution_count": null,
   "metadata": {},
   "outputs": [],
   "source": []
  },
  {
   "cell_type": "markdown",
   "metadata": {},
   "source": [
    "#### Loss, Optimizer, and Evaluation Function"
   ]
  },
  {
   "cell_type": "code",
   "execution_count": 5,
   "metadata": {},
   "outputs": [],
   "source": [
    "criterion = nn.CrossEntropyLoss()\n",
    "optimizer = optim.Adam(model.parameters(), lr=1e-5)"
   ]
  },
  {
   "cell_type": "code",
   "execution_count": 6,
   "metadata": {},
   "outputs": [],
   "source": [
    "# Function to compute loss and accuracy for test set\n",
    "def evaluate(model, testloader, criterion):\n",
    "    model.eval()\n",
    "    test_loss = 0.0\n",
    "    running_correct = 0\n",
    "    total = 0\n",
    "    with torch.no_grad():\n",
    "        for images, labels in testloader:\n",
    "            # Move inputs and labels to the device\n",
    "            images, labels = images.to(device), labels.to(device)\n",
    "\n",
    "            outputs = model(images)\n",
    "            loss = criterion(outputs, labels)\n",
    "            test_loss += loss.item()\n",
    "            \n",
    "            _, predicted = torch.max(outputs.data, 1)\n",
    "            total += labels.size(0)\n",
    "            running_correct += (predicted == labels).sum().item()\n",
    "\n",
    "    accuracy = 100 * running_correct / total\n",
    "    test_loss = test_loss / len(testloader)\n",
    "    return test_loss, accuracy"
   ]
  },
  {
   "cell_type": "code",
   "execution_count": null,
   "metadata": {},
   "outputs": [],
   "source": []
  },
  {
   "cell_type": "markdown",
   "metadata": {},
   "source": [
    "#### Train"
   ]
  },
  {
   "cell_type": "code",
   "execution_count": 7,
   "metadata": {},
   "outputs": [],
   "source": [
    "# some parameter\n",
    "train_losses = []\n",
    "train_accuracies = []\n",
    "test_losses = []\n",
    "test_accuracies = []\n",
    "max_epoch = 250"
   ]
  },
  {
   "cell_type": "code",
   "execution_count": 8,
   "metadata": {
    "colab": {
     "base_uri": "https://localhost:8080/"
    },
    "id": "tYwXeSOOF_4Z",
    "outputId": "a4c62a4a-267f-4101-ce96-662cc23cdbe0"
   },
   "outputs": [
    {
     "name": "stdout",
     "output_type": "stream",
     "text": [
      "Epoch [1/250], Loss: 2.2336, Accuracy: 23.01%, Test Loss: 2.0205, Test Accuracy: 43.39%\n",
      "Epoch [2/250], Loss: 1.5065, Accuracy: 52.92%, Test Loss: 1.0948, Test Accuracy: 61.05%\n",
      "Epoch [3/250], Loss: 0.9647, Accuracy: 64.76%, Test Loss: 0.9035, Test Accuracy: 66.02%\n",
      "Epoch [4/250], Loss: 0.8519, Accuracy: 68.67%, Test Loss: 0.8374, Test Accuracy: 69.15%\n",
      "Epoch [5/250], Loss: 0.7982, Accuracy: 70.52%, Test Loss: 0.7939, Test Accuracy: 70.69%\n",
      "Epoch [6/250], Loss: 0.7622, Accuracy: 71.79%, Test Loss: 0.7610, Test Accuracy: 71.86%\n",
      "Epoch [7/250], Loss: 0.7319, Accuracy: 72.70%, Test Loss: 0.7391, Test Accuracy: 72.22%\n",
      "Epoch [8/250], Loss: 0.7091, Accuracy: 73.48%, Test Loss: 0.7171, Test Accuracy: 73.11%\n",
      "Epoch [9/250], Loss: 0.6900, Accuracy: 74.01%, Test Loss: 0.6997, Test Accuracy: 73.50%\n",
      "Epoch [10/250], Loss: 0.6722, Accuracy: 74.45%, Test Loss: 0.6847, Test Accuracy: 74.03%\n",
      "Epoch [11/250], Loss: 0.6592, Accuracy: 74.92%, Test Loss: 0.6725, Test Accuracy: 74.20%\n",
      "Epoch [12/250], Loss: 0.6461, Accuracy: 75.32%, Test Loss: 0.6601, Test Accuracy: 74.79%\n",
      "Epoch [13/250], Loss: 0.6351, Accuracy: 75.73%, Test Loss: 0.6524, Test Accuracy: 75.36%\n",
      "Epoch [14/250], Loss: 0.6265, Accuracy: 76.03%, Test Loss: 0.6408, Test Accuracy: 75.90%\n",
      "Epoch [15/250], Loss: 0.6171, Accuracy: 76.31%, Test Loss: 0.6331, Test Accuracy: 75.56%\n",
      "Epoch [16/250], Loss: 0.6079, Accuracy: 76.66%, Test Loss: 0.6228, Test Accuracy: 76.33%\n",
      "Epoch [17/250], Loss: 0.6019, Accuracy: 76.92%, Test Loss: 0.6199, Test Accuracy: 76.32%\n",
      "Epoch [18/250], Loss: 0.5937, Accuracy: 77.10%, Test Loss: 0.6104, Test Accuracy: 76.68%\n",
      "Epoch [19/250], Loss: 0.5873, Accuracy: 77.45%, Test Loss: 0.6060, Test Accuracy: 76.84%\n",
      "Epoch [20/250], Loss: 0.5802, Accuracy: 77.69%, Test Loss: 0.5991, Test Accuracy: 77.15%\n",
      "Epoch [21/250], Loss: 0.5747, Accuracy: 78.01%, Test Loss: 0.5958, Test Accuracy: 77.03%\n",
      "Epoch [22/250], Loss: 0.5691, Accuracy: 78.17%, Test Loss: 0.5867, Test Accuracy: 77.54%\n",
      "Epoch [23/250], Loss: 0.5651, Accuracy: 78.38%, Test Loss: 0.5850, Test Accuracy: 77.59%\n",
      "Epoch [24/250], Loss: 0.5575, Accuracy: 78.62%, Test Loss: 0.5769, Test Accuracy: 77.90%\n",
      "Epoch [25/250], Loss: 0.5526, Accuracy: 78.95%, Test Loss: 0.5720, Test Accuracy: 78.11%\n",
      "Epoch [26/250], Loss: 0.5466, Accuracy: 79.14%, Test Loss: 0.5664, Test Accuracy: 78.67%\n",
      "Epoch [27/250], Loss: 0.5421, Accuracy: 79.35%, Test Loss: 0.5620, Test Accuracy: 78.70%\n",
      "Epoch [28/250], Loss: 0.5389, Accuracy: 79.50%, Test Loss: 0.5586, Test Accuracy: 78.78%\n",
      "Epoch [29/250], Loss: 0.5327, Accuracy: 79.70%, Test Loss: 0.5541, Test Accuracy: 79.05%\n",
      "Epoch [30/250], Loss: 0.5299, Accuracy: 79.94%, Test Loss: 0.5510, Test Accuracy: 79.09%\n",
      "Epoch [31/250], Loss: 0.5269, Accuracy: 80.04%, Test Loss: 0.5448, Test Accuracy: 79.57%\n",
      "Epoch [32/250], Loss: 0.5212, Accuracy: 80.32%, Test Loss: 0.5430, Test Accuracy: 79.43%\n",
      "Epoch [33/250], Loss: 0.5163, Accuracy: 80.57%, Test Loss: 0.5398, Test Accuracy: 79.69%\n",
      "Epoch [34/250], Loss: 0.5140, Accuracy: 80.73%, Test Loss: 0.5404, Test Accuracy: 79.48%\n",
      "Epoch [35/250], Loss: 0.5098, Accuracy: 80.81%, Test Loss: 0.5324, Test Accuracy: 80.06%\n",
      "Epoch [36/250], Loss: 0.5070, Accuracy: 80.98%, Test Loss: 0.5338, Test Accuracy: 80.14%\n",
      "Epoch [37/250], Loss: 0.5036, Accuracy: 81.19%, Test Loss: 0.5278, Test Accuracy: 80.27%\n",
      "Epoch [38/250], Loss: 0.5012, Accuracy: 81.31%, Test Loss: 0.5215, Test Accuracy: 80.61%\n",
      "Epoch [39/250], Loss: 0.4960, Accuracy: 81.46%, Test Loss: 0.5176, Test Accuracy: 80.81%\n",
      "Epoch [40/250], Loss: 0.4929, Accuracy: 81.66%, Test Loss: 0.5172, Test Accuracy: 80.43%\n",
      "Epoch [41/250], Loss: 0.4917, Accuracy: 81.61%, Test Loss: 0.5195, Test Accuracy: 80.94%\n",
      "Epoch [42/250], Loss: 0.4878, Accuracy: 81.91%, Test Loss: 0.5146, Test Accuracy: 81.13%\n",
      "Epoch [43/250], Loss: 0.4854, Accuracy: 82.07%, Test Loss: 0.5090, Test Accuracy: 81.23%\n",
      "Epoch [44/250], Loss: 0.4811, Accuracy: 82.15%, Test Loss: 0.5060, Test Accuracy: 81.47%\n",
      "Epoch [45/250], Loss: 0.4798, Accuracy: 82.34%, Test Loss: 0.5062, Test Accuracy: 81.20%\n",
      "Epoch [46/250], Loss: 0.4771, Accuracy: 82.51%, Test Loss: 0.4992, Test Accuracy: 81.67%\n",
      "Epoch [47/250], Loss: 0.4741, Accuracy: 82.55%, Test Loss: 0.4952, Test Accuracy: 81.75%\n",
      "Epoch [48/250], Loss: 0.4707, Accuracy: 82.82%, Test Loss: 0.4969, Test Accuracy: 81.68%\n",
      "Epoch [49/250], Loss: 0.4671, Accuracy: 82.93%, Test Loss: 0.4950, Test Accuracy: 82.15%\n",
      "Epoch [50/250], Loss: 0.4666, Accuracy: 82.83%, Test Loss: 0.4913, Test Accuracy: 82.32%\n",
      "Epoch [51/250], Loss: 0.4638, Accuracy: 82.98%, Test Loss: 0.4891, Test Accuracy: 81.85%\n",
      "Epoch [52/250], Loss: 0.4619, Accuracy: 83.13%, Test Loss: 0.4870, Test Accuracy: 82.00%\n",
      "Epoch [53/250], Loss: 0.4595, Accuracy: 83.18%, Test Loss: 0.4844, Test Accuracy: 82.31%\n",
      "Epoch [54/250], Loss: 0.4573, Accuracy: 83.32%, Test Loss: 0.4792, Test Accuracy: 82.49%\n",
      "Epoch [55/250], Loss: 0.4542, Accuracy: 83.36%, Test Loss: 0.4789, Test Accuracy: 82.44%\n",
      "Epoch [56/250], Loss: 0.4519, Accuracy: 83.57%, Test Loss: 0.4769, Test Accuracy: 82.58%\n",
      "Epoch [57/250], Loss: 0.4506, Accuracy: 83.59%, Test Loss: 0.4802, Test Accuracy: 82.33%\n",
      "Epoch [58/250], Loss: 0.4485, Accuracy: 83.68%, Test Loss: 0.4760, Test Accuracy: 82.62%\n",
      "Epoch [59/250], Loss: 0.4450, Accuracy: 83.76%, Test Loss: 0.4730, Test Accuracy: 83.03%\n",
      "Epoch [60/250], Loss: 0.4424, Accuracy: 83.95%, Test Loss: 0.4709, Test Accuracy: 82.97%\n",
      "Epoch [61/250], Loss: 0.4422, Accuracy: 83.99%, Test Loss: 0.4702, Test Accuracy: 82.91%\n",
      "Epoch [62/250], Loss: 0.4404, Accuracy: 83.90%, Test Loss: 0.4669, Test Accuracy: 82.77%\n",
      "Epoch [63/250], Loss: 0.4380, Accuracy: 83.93%, Test Loss: 0.4641, Test Accuracy: 82.97%\n",
      "Epoch [64/250], Loss: 0.4370, Accuracy: 84.09%, Test Loss: 0.4622, Test Accuracy: 83.28%\n",
      "Epoch [65/250], Loss: 0.4337, Accuracy: 84.22%, Test Loss: 0.4652, Test Accuracy: 83.13%\n",
      "Epoch [66/250], Loss: 0.4329, Accuracy: 84.30%, Test Loss: 0.4622, Test Accuracy: 83.28%\n",
      "Epoch [67/250], Loss: 0.4316, Accuracy: 84.31%, Test Loss: 0.4584, Test Accuracy: 83.36%\n",
      "Epoch [68/250], Loss: 0.4284, Accuracy: 84.44%, Test Loss: 0.4600, Test Accuracy: 83.12%\n",
      "Epoch [69/250], Loss: 0.4262, Accuracy: 84.52%, Test Loss: 0.4526, Test Accuracy: 83.63%\n",
      "Epoch [70/250], Loss: 0.4239, Accuracy: 84.62%, Test Loss: 0.4531, Test Accuracy: 83.83%\n",
      "Epoch [71/250], Loss: 0.4239, Accuracy: 84.68%, Test Loss: 0.4506, Test Accuracy: 83.77%\n",
      "Epoch [72/250], Loss: 0.4202, Accuracy: 84.78%, Test Loss: 0.4498, Test Accuracy: 83.87%\n",
      "Epoch [73/250], Loss: 0.4202, Accuracy: 84.81%, Test Loss: 0.4513, Test Accuracy: 83.53%\n",
      "Epoch [74/250], Loss: 0.4193, Accuracy: 84.72%, Test Loss: 0.4471, Test Accuracy: 83.68%\n",
      "Epoch [75/250], Loss: 0.4182, Accuracy: 84.83%, Test Loss: 0.4469, Test Accuracy: 83.75%\n",
      "Epoch [76/250], Loss: 0.4153, Accuracy: 84.91%, Test Loss: 0.4423, Test Accuracy: 84.09%\n",
      "Epoch [77/250], Loss: 0.4140, Accuracy: 85.00%, Test Loss: 0.4428, Test Accuracy: 83.94%\n",
      "Epoch [78/250], Loss: 0.4120, Accuracy: 85.09%, Test Loss: 0.4465, Test Accuracy: 83.89%\n",
      "Epoch [79/250], Loss: 0.4105, Accuracy: 85.20%, Test Loss: 0.4397, Test Accuracy: 84.04%\n",
      "Epoch [80/250], Loss: 0.4082, Accuracy: 85.20%, Test Loss: 0.4387, Test Accuracy: 84.05%\n",
      "Epoch [81/250], Loss: 0.4078, Accuracy: 85.21%, Test Loss: 0.4375, Test Accuracy: 84.20%\n",
      "Epoch [82/250], Loss: 0.4079, Accuracy: 85.27%, Test Loss: 0.4396, Test Accuracy: 84.09%\n",
      "Epoch [83/250], Loss: 0.4050, Accuracy: 85.31%, Test Loss: 0.4367, Test Accuracy: 84.11%\n",
      "Epoch [84/250], Loss: 0.4027, Accuracy: 85.40%, Test Loss: 0.4341, Test Accuracy: 84.15%\n",
      "Epoch [85/250], Loss: 0.4021, Accuracy: 85.48%, Test Loss: 0.4347, Test Accuracy: 84.00%\n",
      "Epoch [86/250], Loss: 0.4006, Accuracy: 85.50%, Test Loss: 0.4345, Test Accuracy: 84.18%\n",
      "Epoch [87/250], Loss: 0.4018, Accuracy: 85.34%, Test Loss: 0.4289, Test Accuracy: 84.43%\n",
      "Epoch [88/250], Loss: 0.3973, Accuracy: 85.69%, Test Loss: 0.4337, Test Accuracy: 84.21%\n",
      "Epoch [89/250], Loss: 0.3971, Accuracy: 85.62%, Test Loss: 0.4275, Test Accuracy: 84.65%\n",
      "Epoch [90/250], Loss: 0.3962, Accuracy: 85.65%, Test Loss: 0.4262, Test Accuracy: 84.66%\n",
      "Epoch [91/250], Loss: 0.3950, Accuracy: 85.82%, Test Loss: 0.4242, Test Accuracy: 84.68%\n",
      "Epoch [92/250], Loss: 0.3940, Accuracy: 85.74%, Test Loss: 0.4246, Test Accuracy: 84.77%\n",
      "Epoch [93/250], Loss: 0.3914, Accuracy: 85.92%, Test Loss: 0.4238, Test Accuracy: 84.60%\n",
      "Epoch [94/250], Loss: 0.3900, Accuracy: 85.97%, Test Loss: 0.4245, Test Accuracy: 84.46%\n",
      "Epoch [95/250], Loss: 0.3896, Accuracy: 85.89%, Test Loss: 0.4220, Test Accuracy: 84.78%\n",
      "Epoch [96/250], Loss: 0.3888, Accuracy: 85.94%, Test Loss: 0.4205, Test Accuracy: 84.74%\n",
      "Epoch [97/250], Loss: 0.3892, Accuracy: 85.97%, Test Loss: 0.4179, Test Accuracy: 84.95%\n",
      "Epoch [98/250], Loss: 0.3870, Accuracy: 85.96%, Test Loss: 0.4209, Test Accuracy: 84.93%\n",
      "Epoch [99/250], Loss: 0.3871, Accuracy: 86.01%, Test Loss: 0.4169, Test Accuracy: 85.00%\n",
      "Epoch [100/250], Loss: 0.3851, Accuracy: 86.10%, Test Loss: 0.4174, Test Accuracy: 84.90%\n",
      "Epoch [101/250], Loss: 0.3845, Accuracy: 86.08%, Test Loss: 0.4158, Test Accuracy: 84.97%\n",
      "Epoch [102/250], Loss: 0.3834, Accuracy: 86.16%, Test Loss: 0.4142, Test Accuracy: 85.18%\n",
      "Epoch [103/250], Loss: 0.3811, Accuracy: 86.18%, Test Loss: 0.4142, Test Accuracy: 85.01%\n",
      "Epoch [104/250], Loss: 0.3800, Accuracy: 86.18%, Test Loss: 0.4177, Test Accuracy: 85.03%\n",
      "Epoch [105/250], Loss: 0.3803, Accuracy: 86.29%, Test Loss: 0.4097, Test Accuracy: 85.44%\n",
      "Epoch [106/250], Loss: 0.3775, Accuracy: 86.37%, Test Loss: 0.4091, Test Accuracy: 85.45%\n",
      "Epoch [107/250], Loss: 0.3757, Accuracy: 86.38%, Test Loss: 0.4079, Test Accuracy: 85.49%\n",
      "Epoch [108/250], Loss: 0.3745, Accuracy: 86.49%, Test Loss: 0.4065, Test Accuracy: 85.42%\n",
      "Epoch [109/250], Loss: 0.3761, Accuracy: 86.40%, Test Loss: 0.4165, Test Accuracy: 84.93%\n",
      "Epoch [110/250], Loss: 0.3730, Accuracy: 86.59%, Test Loss: 0.4045, Test Accuracy: 85.60%\n",
      "Epoch [111/250], Loss: 0.3723, Accuracy: 86.57%, Test Loss: 0.4038, Test Accuracy: 85.61%\n",
      "Epoch [112/250], Loss: 0.3727, Accuracy: 86.49%, Test Loss: 0.4063, Test Accuracy: 85.28%\n",
      "Epoch [113/250], Loss: 0.3707, Accuracy: 86.64%, Test Loss: 0.4021, Test Accuracy: 85.69%\n",
      "Epoch [114/250], Loss: 0.3689, Accuracy: 86.68%, Test Loss: 0.4034, Test Accuracy: 85.36%\n",
      "Epoch [115/250], Loss: 0.3698, Accuracy: 86.63%, Test Loss: 0.4046, Test Accuracy: 85.47%\n",
      "Epoch [116/250], Loss: 0.3692, Accuracy: 86.67%, Test Loss: 0.3985, Test Accuracy: 85.75%\n",
      "Epoch [117/250], Loss: 0.3672, Accuracy: 86.87%, Test Loss: 0.3984, Test Accuracy: 85.85%\n",
      "Epoch [118/250], Loss: 0.3659, Accuracy: 86.79%, Test Loss: 0.4007, Test Accuracy: 85.71%\n",
      "Epoch [119/250], Loss: 0.3649, Accuracy: 86.84%, Test Loss: 0.3990, Test Accuracy: 85.63%\n",
      "Epoch [120/250], Loss: 0.3640, Accuracy: 86.92%, Test Loss: 0.3963, Test Accuracy: 85.98%\n",
      "Epoch [121/250], Loss: 0.3645, Accuracy: 86.77%, Test Loss: 0.3951, Test Accuracy: 85.94%\n",
      "Epoch [122/250], Loss: 0.3625, Accuracy: 86.94%, Test Loss: 0.3992, Test Accuracy: 85.66%\n",
      "Epoch [123/250], Loss: 0.3617, Accuracy: 86.90%, Test Loss: 0.3963, Test Accuracy: 85.92%\n",
      "Epoch [124/250], Loss: 0.3607, Accuracy: 86.98%, Test Loss: 0.3956, Test Accuracy: 86.05%\n",
      "Epoch [125/250], Loss: 0.3610, Accuracy: 87.02%, Test Loss: 0.3959, Test Accuracy: 85.89%\n",
      "Epoch [126/250], Loss: 0.3588, Accuracy: 87.11%, Test Loss: 0.3920, Test Accuracy: 86.02%\n",
      "Epoch [127/250], Loss: 0.3572, Accuracy: 87.10%, Test Loss: 0.3900, Test Accuracy: 86.25%\n",
      "Epoch [128/250], Loss: 0.3582, Accuracy: 87.01%, Test Loss: 0.3934, Test Accuracy: 85.99%\n",
      "Epoch [129/250], Loss: 0.3561, Accuracy: 87.19%, Test Loss: 0.3913, Test Accuracy: 86.02%\n",
      "Epoch [130/250], Loss: 0.3548, Accuracy: 87.14%, Test Loss: 0.3893, Test Accuracy: 86.01%\n",
      "Epoch [131/250], Loss: 0.3547, Accuracy: 87.24%, Test Loss: 0.3882, Test Accuracy: 86.03%\n",
      "Epoch [132/250], Loss: 0.3541, Accuracy: 87.29%, Test Loss: 0.3962, Test Accuracy: 85.97%\n",
      "Epoch [133/250], Loss: 0.3539, Accuracy: 87.34%, Test Loss: 0.3876, Test Accuracy: 86.14%\n",
      "Epoch [134/250], Loss: 0.3517, Accuracy: 87.35%, Test Loss: 0.3867, Test Accuracy: 86.35%\n",
      "Epoch [135/250], Loss: 0.3529, Accuracy: 87.26%, Test Loss: 0.3897, Test Accuracy: 86.15%\n",
      "Epoch [136/250], Loss: 0.3515, Accuracy: 87.39%, Test Loss: 0.3844, Test Accuracy: 86.31%\n",
      "Epoch [137/250], Loss: 0.3513, Accuracy: 87.28%, Test Loss: 0.3850, Test Accuracy: 86.43%\n",
      "Epoch [138/250], Loss: 0.3483, Accuracy: 87.42%, Test Loss: 0.3837, Test Accuracy: 86.47%\n",
      "Epoch [139/250], Loss: 0.3485, Accuracy: 87.44%, Test Loss: 0.3833, Test Accuracy: 86.47%\n",
      "Epoch [140/250], Loss: 0.3479, Accuracy: 87.50%, Test Loss: 0.3827, Test Accuracy: 86.39%\n",
      "Epoch [141/250], Loss: 0.3462, Accuracy: 87.53%, Test Loss: 0.3813, Test Accuracy: 86.58%\n",
      "Epoch [142/250], Loss: 0.3450, Accuracy: 87.57%, Test Loss: 0.3819, Test Accuracy: 86.57%\n",
      "Epoch [143/250], Loss: 0.3464, Accuracy: 87.53%, Test Loss: 0.3786, Test Accuracy: 86.60%\n",
      "Epoch [144/250], Loss: 0.3440, Accuracy: 87.56%, Test Loss: 0.3824, Test Accuracy: 86.29%\n",
      "Epoch [145/250], Loss: 0.3453, Accuracy: 87.56%, Test Loss: 0.3807, Test Accuracy: 86.31%\n",
      "Epoch [146/250], Loss: 0.3434, Accuracy: 87.59%, Test Loss: 0.3779, Test Accuracy: 86.63%\n",
      "Epoch [147/250], Loss: 0.3429, Accuracy: 87.59%, Test Loss: 0.3774, Test Accuracy: 86.64%\n",
      "Epoch [148/250], Loss: 0.3414, Accuracy: 87.70%, Test Loss: 0.3785, Test Accuracy: 86.67%\n",
      "Epoch [149/250], Loss: 0.3408, Accuracy: 87.74%, Test Loss: 0.3757, Test Accuracy: 86.55%\n",
      "Epoch [150/250], Loss: 0.3395, Accuracy: 87.75%, Test Loss: 0.3762, Test Accuracy: 86.76%\n",
      "Epoch [151/250], Loss: 0.3383, Accuracy: 87.74%, Test Loss: 0.3742, Test Accuracy: 86.68%\n",
      "Epoch [152/250], Loss: 0.3396, Accuracy: 87.72%, Test Loss: 0.3735, Test Accuracy: 86.75%\n",
      "Epoch [153/250], Loss: 0.3364, Accuracy: 87.91%, Test Loss: 0.3742, Test Accuracy: 86.65%\n",
      "Epoch [154/250], Loss: 0.3372, Accuracy: 87.80%, Test Loss: 0.3725, Test Accuracy: 86.64%\n",
      "Epoch [155/250], Loss: 0.3365, Accuracy: 87.83%, Test Loss: 0.3722, Test Accuracy: 86.88%\n",
      "Epoch [156/250], Loss: 0.3363, Accuracy: 87.82%, Test Loss: 0.3729, Test Accuracy: 86.69%\n",
      "Epoch [157/250], Loss: 0.3338, Accuracy: 88.04%, Test Loss: 0.3714, Test Accuracy: 86.82%\n",
      "Epoch [158/250], Loss: 0.3335, Accuracy: 87.97%, Test Loss: 0.3717, Test Accuracy: 86.57%\n",
      "Epoch [159/250], Loss: 0.3329, Accuracy: 88.02%, Test Loss: 0.3701, Test Accuracy: 86.90%\n",
      "Epoch [160/250], Loss: 0.3322, Accuracy: 87.96%, Test Loss: 0.3676, Test Accuracy: 87.14%\n",
      "Epoch [161/250], Loss: 0.3323, Accuracy: 88.00%, Test Loss: 0.3708, Test Accuracy: 87.00%\n",
      "Epoch [162/250], Loss: 0.3308, Accuracy: 88.09%, Test Loss: 0.3673, Test Accuracy: 86.99%\n",
      "Epoch [163/250], Loss: 0.3311, Accuracy: 88.00%, Test Loss: 0.3718, Test Accuracy: 86.70%\n",
      "Epoch [164/250], Loss: 0.3291, Accuracy: 88.14%, Test Loss: 0.3660, Test Accuracy: 87.10%\n",
      "Epoch [165/250], Loss: 0.3289, Accuracy: 88.13%, Test Loss: 0.3653, Test Accuracy: 86.94%\n",
      "Epoch [166/250], Loss: 0.3277, Accuracy: 88.21%, Test Loss: 0.3655, Test Accuracy: 87.12%\n",
      "Epoch [167/250], Loss: 0.3283, Accuracy: 88.12%, Test Loss: 0.3670, Test Accuracy: 86.81%\n",
      "Epoch [168/250], Loss: 0.3268, Accuracy: 88.26%, Test Loss: 0.3669, Test Accuracy: 86.92%\n",
      "Epoch [169/250], Loss: 0.3276, Accuracy: 88.19%, Test Loss: 0.3628, Test Accuracy: 87.42%\n",
      "Epoch [170/250], Loss: 0.3254, Accuracy: 88.22%, Test Loss: 0.3627, Test Accuracy: 87.09%\n",
      "Epoch [171/250], Loss: 0.3252, Accuracy: 88.25%, Test Loss: 0.3655, Test Accuracy: 86.85%\n",
      "Epoch [172/250], Loss: 0.3247, Accuracy: 88.24%, Test Loss: 0.3678, Test Accuracy: 86.87%\n",
      "Epoch [173/250], Loss: 0.3242, Accuracy: 88.31%, Test Loss: 0.3620, Test Accuracy: 87.11%\n",
      "Epoch [174/250], Loss: 0.3225, Accuracy: 88.41%, Test Loss: 0.3622, Test Accuracy: 87.19%\n",
      "Epoch [175/250], Loss: 0.3223, Accuracy: 88.37%, Test Loss: 0.3605, Test Accuracy: 87.03%\n",
      "Epoch [176/250], Loss: 0.3223, Accuracy: 88.38%, Test Loss: 0.3609, Test Accuracy: 87.33%\n",
      "Epoch [177/250], Loss: 0.3226, Accuracy: 88.36%, Test Loss: 0.3584, Test Accuracy: 87.33%\n",
      "Epoch [178/250], Loss: 0.3202, Accuracy: 88.45%, Test Loss: 0.3641, Test Accuracy: 87.01%\n",
      "Epoch [179/250], Loss: 0.3208, Accuracy: 88.42%, Test Loss: 0.3604, Test Accuracy: 87.30%\n",
      "Epoch [180/250], Loss: 0.3195, Accuracy: 88.48%, Test Loss: 0.3587, Test Accuracy: 87.22%\n",
      "Epoch [181/250], Loss: 0.3180, Accuracy: 88.48%, Test Loss: 0.3568, Test Accuracy: 87.44%\n",
      "Epoch [182/250], Loss: 0.3185, Accuracy: 88.47%, Test Loss: 0.3604, Test Accuracy: 87.16%\n",
      "Epoch [183/250], Loss: 0.3180, Accuracy: 88.49%, Test Loss: 0.3554, Test Accuracy: 87.44%\n",
      "Epoch [184/250], Loss: 0.3161, Accuracy: 88.56%, Test Loss: 0.3552, Test Accuracy: 87.59%\n",
      "Epoch [185/250], Loss: 0.3167, Accuracy: 88.55%, Test Loss: 0.3565, Test Accuracy: 87.36%\n",
      "Epoch [186/250], Loss: 0.3162, Accuracy: 88.60%, Test Loss: 0.3560, Test Accuracy: 87.23%\n",
      "Epoch [187/250], Loss: 0.3147, Accuracy: 88.72%, Test Loss: 0.3535, Test Accuracy: 87.38%\n",
      "Epoch [188/250], Loss: 0.3150, Accuracy: 88.59%, Test Loss: 0.3599, Test Accuracy: 87.26%\n",
      "Epoch [189/250], Loss: 0.3137, Accuracy: 88.61%, Test Loss: 0.3596, Test Accuracy: 86.94%\n",
      "Epoch [190/250], Loss: 0.3150, Accuracy: 88.55%, Test Loss: 0.3540, Test Accuracy: 87.46%\n",
      "Epoch [191/250], Loss: 0.3141, Accuracy: 88.66%, Test Loss: 0.3509, Test Accuracy: 87.48%\n",
      "Epoch [192/250], Loss: 0.3125, Accuracy: 88.67%, Test Loss: 0.3552, Test Accuracy: 87.43%\n",
      "Epoch [193/250], Loss: 0.3110, Accuracy: 88.82%, Test Loss: 0.3519, Test Accuracy: 87.49%\n",
      "Epoch [194/250], Loss: 0.3104, Accuracy: 88.86%, Test Loss: 0.3508, Test Accuracy: 87.48%\n",
      "Epoch [195/250], Loss: 0.3101, Accuracy: 88.76%, Test Loss: 0.3497, Test Accuracy: 87.67%\n",
      "Epoch [196/250], Loss: 0.3096, Accuracy: 88.79%, Test Loss: 0.3500, Test Accuracy: 87.68%\n",
      "Epoch [197/250], Loss: 0.3105, Accuracy: 88.81%, Test Loss: 0.3523, Test Accuracy: 87.45%\n",
      "Epoch [198/250], Loss: 0.3121, Accuracy: 88.68%, Test Loss: 0.3516, Test Accuracy: 87.50%\n",
      "Epoch [199/250], Loss: 0.3074, Accuracy: 88.86%, Test Loss: 0.3488, Test Accuracy: 87.69%\n",
      "Epoch [200/250], Loss: 0.3067, Accuracy: 89.01%, Test Loss: 0.3509, Test Accuracy: 87.58%\n",
      "Epoch [201/250], Loss: 0.3069, Accuracy: 88.96%, Test Loss: 0.3518, Test Accuracy: 87.46%\n",
      "Epoch [202/250], Loss: 0.3064, Accuracy: 88.94%, Test Loss: 0.3485, Test Accuracy: 87.73%\n",
      "Epoch [203/250], Loss: 0.3064, Accuracy: 89.00%, Test Loss: 0.3458, Test Accuracy: 87.58%\n",
      "Epoch [204/250], Loss: 0.3047, Accuracy: 88.98%, Test Loss: 0.3473, Test Accuracy: 87.67%\n",
      "Epoch [205/250], Loss: 0.3048, Accuracy: 88.92%, Test Loss: 0.3491, Test Accuracy: 87.75%\n",
      "Epoch [206/250], Loss: 0.3057, Accuracy: 88.89%, Test Loss: 0.3458, Test Accuracy: 87.76%\n",
      "Epoch [207/250], Loss: 0.3028, Accuracy: 89.07%, Test Loss: 0.3451, Test Accuracy: 87.73%\n",
      "Epoch [208/250], Loss: 0.3035, Accuracy: 89.01%, Test Loss: 0.3449, Test Accuracy: 87.61%\n",
      "Epoch [209/250], Loss: 0.3042, Accuracy: 89.03%, Test Loss: 0.3466, Test Accuracy: 87.62%\n",
      "Epoch [210/250], Loss: 0.3021, Accuracy: 89.05%, Test Loss: 0.3422, Test Accuracy: 87.93%\n",
      "Epoch [211/250], Loss: 0.3007, Accuracy: 89.13%, Test Loss: 0.3433, Test Accuracy: 88.03%\n",
      "Epoch [212/250], Loss: 0.3009, Accuracy: 89.11%, Test Loss: 0.3430, Test Accuracy: 87.75%\n",
      "Epoch [213/250], Loss: 0.3003, Accuracy: 89.18%, Test Loss: 0.3419, Test Accuracy: 87.83%\n",
      "Epoch [214/250], Loss: 0.2987, Accuracy: 89.18%, Test Loss: 0.3423, Test Accuracy: 88.00%\n",
      "Epoch [215/250], Loss: 0.2992, Accuracy: 89.19%, Test Loss: 0.3449, Test Accuracy: 87.57%\n",
      "Epoch [216/250], Loss: 0.2998, Accuracy: 89.15%, Test Loss: 0.3413, Test Accuracy: 88.06%\n",
      "Epoch [217/250], Loss: 0.2987, Accuracy: 89.18%, Test Loss: 0.3455, Test Accuracy: 87.59%\n",
      "Epoch [218/250], Loss: 0.2995, Accuracy: 89.14%, Test Loss: 0.3394, Test Accuracy: 87.94%\n",
      "Epoch [219/250], Loss: 0.2966, Accuracy: 89.30%, Test Loss: 0.3395, Test Accuracy: 87.85%\n",
      "Epoch [220/250], Loss: 0.2973, Accuracy: 89.23%, Test Loss: 0.3432, Test Accuracy: 87.69%\n",
      "Epoch [221/250], Loss: 0.2960, Accuracy: 89.29%, Test Loss: 0.3380, Test Accuracy: 87.87%\n",
      "Epoch [222/250], Loss: 0.2958, Accuracy: 89.30%, Test Loss: 0.3451, Test Accuracy: 87.61%\n",
      "Epoch [223/250], Loss: 0.2953, Accuracy: 89.34%, Test Loss: 0.3383, Test Accuracy: 87.90%\n",
      "Epoch [224/250], Loss: 0.2948, Accuracy: 89.27%, Test Loss: 0.3400, Test Accuracy: 87.90%\n",
      "Epoch [225/250], Loss: 0.2954, Accuracy: 89.30%, Test Loss: 0.3407, Test Accuracy: 87.98%\n",
      "Epoch [226/250], Loss: 0.2937, Accuracy: 89.38%, Test Loss: 0.3405, Test Accuracy: 87.79%\n",
      "Epoch [227/250], Loss: 0.2925, Accuracy: 89.41%, Test Loss: 0.3356, Test Accuracy: 88.22%\n",
      "Epoch [228/250], Loss: 0.2920, Accuracy: 89.54%, Test Loss: 0.3399, Test Accuracy: 87.98%\n",
      "Epoch [229/250], Loss: 0.2917, Accuracy: 89.39%, Test Loss: 0.3387, Test Accuracy: 87.90%\n",
      "Epoch [230/250], Loss: 0.2914, Accuracy: 89.45%, Test Loss: 0.3376, Test Accuracy: 87.80%\n",
      "Epoch [231/250], Loss: 0.2903, Accuracy: 89.45%, Test Loss: 0.3364, Test Accuracy: 88.05%\n",
      "Epoch [232/250], Loss: 0.2911, Accuracy: 89.47%, Test Loss: 0.3370, Test Accuracy: 88.03%\n",
      "Epoch [233/250], Loss: 0.2907, Accuracy: 89.49%, Test Loss: 0.3382, Test Accuracy: 87.92%\n",
      "Epoch [234/250], Loss: 0.2898, Accuracy: 89.55%, Test Loss: 0.3346, Test Accuracy: 88.04%\n",
      "Epoch [235/250], Loss: 0.2887, Accuracy: 89.58%, Test Loss: 0.3332, Test Accuracy: 88.20%\n",
      "Epoch [236/250], Loss: 0.2905, Accuracy: 89.54%, Test Loss: 0.3349, Test Accuracy: 88.02%\n",
      "Epoch [237/250], Loss: 0.2880, Accuracy: 89.60%, Test Loss: 0.3338, Test Accuracy: 88.22%\n",
      "Epoch [238/250], Loss: 0.2888, Accuracy: 89.51%, Test Loss: 0.3318, Test Accuracy: 88.23%\n",
      "Epoch [239/250], Loss: 0.2894, Accuracy: 89.56%, Test Loss: 0.3333, Test Accuracy: 88.23%\n",
      "Epoch [240/250], Loss: 0.2871, Accuracy: 89.67%, Test Loss: 0.3301, Test Accuracy: 88.20%\n",
      "Epoch [241/250], Loss: 0.2875, Accuracy: 89.56%, Test Loss: 0.3316, Test Accuracy: 88.29%\n",
      "Epoch [242/250], Loss: 0.2867, Accuracy: 89.64%, Test Loss: 0.3338, Test Accuracy: 87.92%\n",
      "Epoch [243/250], Loss: 0.2866, Accuracy: 89.60%, Test Loss: 0.3325, Test Accuracy: 87.88%\n",
      "Epoch [244/250], Loss: 0.2855, Accuracy: 89.63%, Test Loss: 0.3303, Test Accuracy: 88.30%\n",
      "Epoch [245/250], Loss: 0.2853, Accuracy: 89.70%, Test Loss: 0.3286, Test Accuracy: 88.34%\n",
      "Epoch [246/250], Loss: 0.2834, Accuracy: 89.78%, Test Loss: 0.3333, Test Accuracy: 88.07%\n",
      "Epoch [247/250], Loss: 0.2836, Accuracy: 89.73%, Test Loss: 0.3299, Test Accuracy: 88.24%\n",
      "Epoch [248/250], Loss: 0.2836, Accuracy: 89.71%, Test Loss: 0.3275, Test Accuracy: 88.51%\n",
      "Epoch [249/250], Loss: 0.2823, Accuracy: 89.85%, Test Loss: 0.3296, Test Accuracy: 88.43%\n",
      "Epoch [250/250], Loss: 0.2816, Accuracy: 89.87%, Test Loss: 0.3290, Test Accuracy: 88.18%\n"
     ]
    }
   ],
   "source": [
    "# train\n",
    "for epoch in range(max_epoch):\n",
    "    model.train()\n",
    "    running_loss = 0.0\n",
    "    running_correct = 0   # to track number of correct predictions\n",
    "    total = 0             # to track total number of samples\n",
    "\n",
    "    for i, (inputs, labels) in enumerate(trainloader, 0):\n",
    "        # Move inputs and labels to the device\n",
    "        inputs, labels = inputs.to(device), labels.to(device)\n",
    "\n",
    "        # Zero the parameter gradients\n",
    "        optimizer.zero_grad()\n",
    "\n",
    "        # Forward pass\n",
    "        outputs = model(inputs)\n",
    "        loss = criterion(outputs, labels)\n",
    "        running_loss += loss.item()\n",
    "\n",
    "        # Determine class predictions and track accuracy\n",
    "        _, predicted = torch.max(outputs.data, 1)\n",
    "        total += labels.size(0)\n",
    "        running_correct += (predicted == labels).sum().item()\n",
    "\n",
    "        # Backward pass and optimization\n",
    "        loss.backward()\n",
    "        optimizer.step()        \n",
    "\n",
    "    epoch_accuracy = 100 * running_correct / total\n",
    "    epoch_loss = running_loss / (i + 1)\n",
    "    \n",
    "    test_loss, test_accuracy = evaluate(model, testloader, criterion)\n",
    "    print(f\"Epoch [{epoch + 1}/{max_epoch}], Loss: {epoch_loss:.4f}, Accuracy: {epoch_accuracy:.2f}%, Test Loss: {test_loss:.4f}, Test Accuracy: {test_accuracy:.2f}%\")\n",
    "    \n",
    "    # save for plot\n",
    "    train_losses.append(epoch_loss)\n",
    "    train_accuracies.append(epoch_accuracy)\n",
    "    test_losses.append(test_loss)\n",
    "    test_accuracies.append(test_accuracy)"
   ]
  },
  {
   "cell_type": "code",
   "execution_count": null,
   "metadata": {
    "id": "QKFbl4unF_6t"
   },
   "outputs": [],
   "source": []
  },
  {
   "cell_type": "code",
   "execution_count": 9,
   "metadata": {
    "id": "AwIj3vrnF_8_"
   },
   "outputs": [
    {
     "data": {
      "text/plain": [
       "<matplotlib.legend.Legend at 0x7f4f0c0ee4d0>"
      ]
     },
     "execution_count": 9,
     "metadata": {},
     "output_type": "execute_result"
    },
    {
     "data": {
      "image/png": "[encoded data removed]",
      "text/plain": [
       "<Figure size 640x480 with 1 Axes>"
      ]
     },
     "metadata": {},
     "output_type": "display_data"
    }
   ],
   "source": [
    "import matplotlib.pyplot as plt\n",
    "\n",
    "plt.plot(train_losses, label='train_losses')\n",
    "plt.plot(test_losses, label='test_losses')\n",
    "plt.legend()"
   ]
  },
  {
   "cell_type": "code",
   "execution_count": 10,
   "metadata": {
    "id": "eh3iDa8lF__H"
   },
   "outputs": [
    {
     "data": {
      "text/plain": [
       "<matplotlib.legend.Legend at 0x7f4f02d32ec0>"
      ]
     },
     "execution_count": 10,
     "metadata": {},
     "output_type": "execute_result"
    },
    {
     "data": {
      "image/png": "[encoded data removed]",
      "text/plain": [
       "<Figure size 640x480 with 1 Axes>"
      ]
     },
     "metadata": {},
     "output_type": "display_data"
    }
   ],
   "source": [
    "import matplotlib.pyplot as plt\n",
    "\n",
    "plt.plot(train_accuracies, label='train_accuracy')\n",
    "plt.plot(test_accuracies, label='test_accuracy')\n",
    "plt.legend()"
   ]
  },
  {
   "cell_type": "code",
   "execution_count": null,
   "metadata": {},
   "outputs": [],
   "source": []
  },
  {
   "cell_type": "code",
   "execution_count": 11,
   "metadata": {},
   "outputs": [
    {
     "data": {
      "text/plain": [
       "<matplotlib.legend.Legend at 0x7f4eea8da7d0>"
      ]
     },
     "execution_count": 11,
     "metadata": {},
     "output_type": "execute_result"
    }
   ],
   "source": [
    "import matplotlib.pyplot as plt\n",
    "%matplotlib qt\n",
    "\n",
    "plt.plot(train_losses, label='train_losses')\n",
    "plt.plot(test_losses, label='test_losses')\n",
    "plt.legend()"
   ]
  },
  {
   "cell_type": "code",
   "execution_count": 12,
   "metadata": {},
   "outputs": [
    {
     "data": {
      "text/plain": [
       "<matplotlib.legend.Legend at 0x7f4e5c139e10>"
      ]
     },
     "execution_count": 12,
     "metadata": {},
     "output_type": "execute_result"
    }
   ],
   "source": [
    "import matplotlib.pyplot as plt\n",
    "%matplotlib qt\n",
    "\n",
    "plt.plot(train_accuracies, label='train_accuracy')\n",
    "plt.plot(test_accuracies, label='test_accuracy')\n",
    "plt.legend()"
   ]
  },
  {
   "cell_type": "code",
   "execution_count": null,
   "metadata": {},
   "outputs": [],
   "source": []
  }
 ],
 "metadata": {
  "accelerator": "GPU",
  "colab": {
   "gpuType": "T4",
   "provenance": []
  },
  "kernelspec": {
   "display_name": "Python 3 (ipykernel)",
   "language": "python",
   "name": "python3"
  },
  "language_info": {
   "codemirror_mode": {
    "name": "ipython",
    "version": 3
   },
   "file_extension": ".py",
   "mimetype": "text/x-python",
   "name": "python",
   "nbconvert_exporter": "python",
   "pygments_lexer": "ipython3",
   "version": "3.9.18"
  }
 },
 "nbformat": 4,
 "nbformat_minor": 4
}

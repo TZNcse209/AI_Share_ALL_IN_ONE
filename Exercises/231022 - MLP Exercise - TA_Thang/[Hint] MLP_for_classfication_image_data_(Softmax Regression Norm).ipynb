{
 "cells": [
  {
   "cell_type": "markdown",
   "metadata": {
    "id": "E4sS0PFnr2Nu"
   },
   "source": [
    "## Download data  "
   ]
  },
  {
   "cell_type": "code",
   "execution_count": null,
   "metadata": {
    "colab": {
     "base_uri": "https://localhost:8080/"
    },
    "executionInfo": {
     "elapsed": 4119,
     "status": "ok",
     "timestamp": 1695897473519,
     "user": {
      "displayName": "Khoa Nguyen Tho Anh",
      "userId": "05392028195404260378"
     },
     "user_tz": -420
    },
    "id": "EVKQJrh6qhh9",
    "outputId": "1af7ef25-444a-41c1-a207-85f187da9ae6"
   },
   "outputs": [],
   "source": [
    "!gdown --id 1bFx6uiQV-GUGwL3PwYRIYdmRCF9hS2bP"
   ]
  },
  {
   "cell_type": "markdown",
   "metadata": {
    "id": "bpi0klXf7zUJ"
   },
   "source": [
    "## Giải nén data"
   ]
  },
  {
   "cell_type": "code",
   "execution_count": null,
   "metadata": {
    "executionInfo": {
     "elapsed": 2254,
     "status": "ok",
     "timestamp": 1695897532494,
     "user": {
      "displayName": "Khoa Nguyen Tho Anh",
      "userId": "05392028195404260378"
     },
     "user_tz": -420
    },
    "id": "6cTECNoboMAp"
   },
   "outputs": [],
   "source": [
    "!unzip -q \"/content/FER-2013.zip\""
   ]
  },
  {
   "cell_type": "markdown",
   "metadata": {
    "id": "cY3p-hGyt6ce"
   },
   "source": [
    "## Load và xử lý data dạng ảnh"
   ]
  },
  {
   "cell_type": "markdown",
   "metadata": {
    "id": "QeWSTXZyhEgC"
   },
   "source": [
    "### Cách xử lý data dùng tf.data"
   ]
  },
  {
   "cell_type": "markdown",
   "metadata": {
    "id": "NxsNHsBg9UO2"
   },
   "source": [
    "#### Sử dụng Tensorflow để  build, compile và train và evaluate model. Kết quả train và evaluation được thể hiện bằng hình ảnh bằng cách sử dụng matplotlib"
   ]
  },
  {
   "cell_type": "code",
   "execution_count": null,
   "metadata": {
    "colab": {
     "base_uri": "https://localhost:8080/"
    },
    "executionInfo": {
     "elapsed": 7993,
     "status": "ok",
     "timestamp": 1695897573654,
     "user": {
      "displayName": "Khoa Nguyen Tho Anh",
      "userId": "05392028195404260378"
     },
     "user_tz": -420
    },
    "id": "NFUJG3dSic4M",
    "outputId": "974ba112-742f-4a5f-b4e4-eeeb67de4a8b"
   },
   "outputs": [],
   "source": [
    "import numpy as np\n",
    "import pandas as pd\n",
    "import matplotlib.pyplot as plt\n",
    "import torch\n",
    "from torch import nn\n",
    "import torch.optim as optim\n",
    "from torch.utils.data import Dataset, DataLoader\n",
    "from torchvision.transforms import Resize\n",
    "from torchvision.io import read_image\n",
    "import os\n",
    "device = torch.device('cuda:0' if torch.cuda.is_available() else 'cpu')\n",
    "torch.manual_seed(42)"
   ]
  },
  {
   "cell_type": "code",
   "execution_count": null,
   "metadata": {
    "executionInfo": {
     "elapsed": 516,
     "status": "ok",
     "timestamp": 1695897634469,
     "user": {
      "displayName": "Khoa Nguyen Tho Anh",
      "userId": "05392028195404260378"
     },
     "user_tz": -420
    },
    "id": "vUyNvx0JhVfd"
   },
   "outputs": [],
   "source": [
    "batch_size = 256\n",
    "img_height = 180\n",
    "img_width = 180\n",
    "image_count = 28709\n",
    "train_dir = \"/content/train\"\n",
    "val_dir = \"/content/test\""
   ]
  },
  {
   "cell_type": "code",
   "execution_count": null,
   "metadata": {
    "executionInfo": {
     "elapsed": 5,
     "status": "ok",
     "timestamp": 1695897599015,
     "user": {
      "displayName": "Khoa Nguyen Tho Anh",
      "userId": "05392028195404260378"
     },
     "user_tz": -420
    },
    "id": "fSPNMIpWlyIw"
   },
   "outputs": [],
   "source": [
    "class ImageDataset(Dataset):\n",
    "    def __init__(self, img_dir, norm):\n",
    "        self.resize = Resize((img_height, img_width))\n",
    "        self.norm = norm\n",
    "        self.img_dir = img_dir\n",
    "        self.classes = os.listdir(img_dir)\n",
    "        self.image_files = [(os.path.join(cls, img), cls) for cls in self.classes for img in os.listdir(os.path.join(img_dir, cls))]\n",
    "        self.class_to_idx = {cls: idx for idx, cls in enumerate(self.classes)}\n",
    "        self.idx_to_class = {idx:cls  for cls, idx in self.class_to_idx.items()}\n",
    "\n",
    "    def __len__(self):\n",
    "        return len(self.image_files)\n",
    "\n",
    "    def __getitem__(self, idx):\n",
    "        img_path, cls = self.image_files[idx]\n",
    "        image = self.resize(read_image(os.path.join(self.img_dir, img_path)))\n",
    "        image = image.type(torch.float32)\n",
    "        label = self.class_to_idx[cls]\n",
    "        if self.norm:\n",
    "            image = (image/127.5) - 1\n",
    "        return image, label"
   ]
  },
  {
   "cell_type": "code",
   "execution_count": null,
   "metadata": {
    "executionInfo": {
     "elapsed": 535,
     "status": "ok",
     "timestamp": 1695897637440,
     "user": {
      "displayName": "Khoa Nguyen Tho Anh",
      "userId": "05392028195404260378"
     },
     "user_tz": -420
    },
    "id": "tvO0ddY_X9f0"
   },
   "outputs": [],
   "source": [
    "train_dataset = ImageDataset(train_dir, True)\n",
    "train_loader = DataLoader(train_dataset, batch_size=batch_size, shuffle=True)\n",
    "\n",
    "val_dataset = ImageDataset(val_dir, True)\n",
    "val_loader = DataLoader(val_dataset, batch_size=batch_size, shuffle=False)"
   ]
  },
  {
   "cell_type": "code",
   "execution_count": null,
   "metadata": {
    "colab": {
     "base_uri": "https://localhost:8080/",
     "height": 884
    },
    "executionInfo": {
     "elapsed": 897,
     "status": "ok",
     "timestamp": 1695897649903,
     "user": {
      "displayName": "Khoa Nguyen Tho Anh",
      "userId": "05392028195404260378"
     },
     "user_tz": -420
    },
    "id": "wsJ1OA_Ll3Wq",
    "outputId": "56465db7-730a-4a0d-871d-db4a55476475"
   },
   "outputs": [],
   "source": [
    "image_batch, label_batch = next(iter(train_loader))\n",
    "\n",
    "plt.figure(figsize=(10, 10))\n",
    "for i in range(9):\n",
    "  ax = plt.subplot(3, 3, i + 1)\n",
    "  minv = image_batch[i].numpy().min()\n",
    "  maxv = image_batch[i].numpy().max()\n",
    "  plt.imshow(np.squeeze(image_batch[i].numpy()), vmin=minv, vmax=maxv, cmap=\"gray\")\n",
    "  label = label_batch[i]\n",
    "  plt.title(train_dataset.idx_to_class[label.item()])\n",
    "  plt.axis(\"off\")"
   ]
  },
  {
   "cell_type": "markdown",
   "metadata": {
    "id": "8YAmRUGGz6pX"
   },
   "source": [
    "##### Softmax Regression Norm"
   ]
  },
  {
   "cell_type": "code",
   "execution_count": null,
   "metadata": {
    "executionInfo": {
     "elapsed": 463,
     "status": "ok",
     "timestamp": 1695897685152,
     "user": {
      "displayName": "Khoa Nguyen Tho Anh",
      "userId": "05392028195404260378"
     },
     "user_tz": -420
    },
    "id": "w-KSFm0kYNUs"
   },
   "outputs": [],
   "source": [
    "######################### YOUR CODE HERE #########################\n",
    "# Thiết kế model theo yêu cầu đề  bài \n",
    "# Linear layer in_features = input_dims (180*180), out_features = num_classes (7)\n",
    "\n",
    "class SoftMaxRegression(nn.Module):\n",
    "    def __init__(self, input_dims, num_classes):\n",
    "\n",
    "    def forward(self, x):\n",
    "##################################################################\n",
    "model = SoftMaxRegression(input_dims=180*180, num_classes=7).to(device)\n",
    "criterion = nn.CrossEntropyLoss()\n",
    "optimizer = optim.SGD(model.parameters(), lr=0.006)"
   ]
  },
  {
   "cell_type": "code",
   "execution_count": null,
   "metadata": {
    "colab": {
     "base_uri": "https://localhost:8080/",
     "height": 497
    },
    "executionInfo": {
     "elapsed": 36152,
     "status": "error",
     "timestamp": 1695897742186,
     "user": {
      "displayName": "Khoa Nguyen Tho Anh",
      "userId": "05392028195404260378"
     },
     "user_tz": -420
    },
    "id": "JdF7UXrmYRuj",
    "outputId": "6b087811-7334-4f1e-d1f4-785f5c1d2294"
   },
   "outputs": [],
   "source": [
    "num_epochs = 100\n",
    "train_losses = []\n",
    "train_acc = []\n",
    "val_losses = []\n",
    "val_acc = []\n",
    "for epoch in range(num_epochs):\n",
    "    model.train()\n",
    "    train_loss = 0.0\n",
    "    accuracy = 0\n",
    "    cnt = 0\n",
    "    for X, y in train_loader:\n",
    "        X, y = X.to(device), y.to(device)\n",
    "        optimizer.zero_grad()\n",
    "        outputs = model(X)\n",
    "        loss = criterion(outputs, y)\n",
    "        loss.backward()\n",
    "        optimizer.step()\n",
    "        train_loss += loss.item()\n",
    "        accuracy += (torch.argmax(outputs, 1) == y).sum().item()\n",
    "        cnt += len(y)\n",
    "    train_loss /= len(train_loader)\n",
    "    train_losses.append(train_loss)\n",
    "    accuracy /= cnt\n",
    "    train_acc.append(accuracy)\n",
    "\n",
    "\n",
    "    model.eval()\n",
    "    val_loss = 0.0\n",
    "    val_accuracy = 0\n",
    "    cnt = 0\n",
    "    with torch.no_grad():\n",
    "        for X, y in val_loader:\n",
    "            X, y = X.to(device), y.to(device)\n",
    "            outputs = model(X)\n",
    "            loss = criterion(outputs, y)\n",
    "            val_loss += loss.item()\n",
    "            val_accuracy += (torch.argmax(outputs, 1) == y).sum().item()\n",
    "            cnt += len(y)\n",
    "    val_loss /= len(val_loader)\n",
    "    val_losses.append(val_loss)\n",
    "    val_accuracy /= cnt\n",
    "    val_acc.append(val_accuracy)\n",
    "\n",
    "    print(f\"Epoch {epoch+1}/{num_epochs}, Train_Loss: {train_loss:.4f},  Train_Acc: {accuracy:.4f}, Val_Loss: {val_loss:.4f},  Val_Acc: {val_accuracy:.4f}\")"
   ]
  },
  {
   "cell_type": "code",
   "execution_count": null,
   "metadata": {
    "colab": {
     "base_uri": "https://localhost:8080/",
     "height": 696
    },
    "executionInfo": {
     "elapsed": 2925,
     "status": "ok",
     "timestamp": 1695897756782,
     "user": {
      "displayName": "Khoa Nguyen Tho Anh",
      "userId": "05392028195404260378"
     },
     "user_tz": -420
    },
    "id": "jdtaAIz9YgF3",
    "outputId": "5b120db6-b434-4dac-861a-6e4ee43f045a"
   },
   "outputs": [],
   "source": [
    "fig = plt.figure(figsize=(12,8))\n",
    "plt.subplot(2, 2, 1)\n",
    "plt.plot(train_losses, label='loss', color='green')\n",
    "plt.xlabel('Epoch')\n",
    "plt.ylabel('Error [CrosEntr]')\n",
    "plt.legend()\n",
    "plt.grid(True)\n",
    "\n",
    "plt.subplot(2, 2, 2)\n",
    "plt.plot(train_acc, label='accuracy', color='red')\n",
    "plt.xlabel('Epoch')\n",
    "plt.ylabel('accuracy')\n",
    "plt.legend()\n",
    "plt.grid(True)\n",
    "\n",
    "plt.subplot(2, 2, 3)\n",
    "plt.plot(val_losses, label='val_loss', color='green')\n",
    "plt.xlabel('Epoch')\n",
    "plt.ylabel('Error [CrosEntr]')\n",
    "plt.legend()\n",
    "plt.grid(True)\n",
    "\n",
    "plt.subplot(2, 2, 4)\n",
    "plt.plot(val_acc, label='val_accuracy', color='red')\n",
    "plt.xlabel('Epoch')\n",
    "plt.ylabel('val_accuracy')\n",
    "plt.legend()\n",
    "plt.grid(True)\n"
   ]
  }
 ],
 "metadata": {
  "accelerator": "GPU",
  "colab": {
   "provenance": [],
   "toc_visible": true
  },
  "gpuClass": "standard",
  "kernelspec": {
   "display_name": "Python 3 (ipykernel)",
   "language": "python",
   "name": "python3"
  },
  "language_info": {
   "codemirror_mode": {
    "name": "ipython",
    "version": 3
   },
   "file_extension": ".py",
   "mimetype": "text/x-python",
   "name": "python",
   "nbconvert_exporter": "python",
   "pygments_lexer": "ipython3",
   "version": "3.10.13"
  }
 },
 "nbformat": 4,
 "nbformat_minor": 4
}

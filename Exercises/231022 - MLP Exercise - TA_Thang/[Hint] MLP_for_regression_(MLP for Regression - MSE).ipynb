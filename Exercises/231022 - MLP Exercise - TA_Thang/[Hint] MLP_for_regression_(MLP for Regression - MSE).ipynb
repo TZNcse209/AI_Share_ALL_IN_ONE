{
 "cells": [
  {
   "cell_type": "markdown",
   "metadata": {
    "id": "E4sS0PFnr2Nu"
   },
   "source": [
    "## Download data  "
   ]
  },
  {
   "cell_type": "code",
   "execution_count": 1,
   "metadata": {
    "colab": {
     "base_uri": "https://localhost:8080/"
    },
    "executionInfo": {
     "elapsed": 1586,
     "status": "ok",
     "timestamp": 1695831941080,
     "user": {
      "displayName": "Khoa Nguyen Tho Anh",
      "userId": "05392028195404260378"
     },
     "user_tz": -420
    },
    "id": "EVKQJrh6qhh9",
    "outputId": "9571c8f3-3f64-4e1a-8ed6-77a851e908ad"
   },
   "outputs": [
    {
     "name": "stdout",
     "output_type": "stream",
     "text": [
      "/home/server-ailab-12gb/miniconda3/envs/Khoa_env/lib/python3.10/site-packages/gdown/cli.py:126: FutureWarning: Option `--id` was deprecated in version 4.3.1 and will be removed in 5.0. You don't need to pass it anymore to use a file ID.\n",
      "  warnings.warn(\n",
      "Downloading...\n",
      "From: https://drive.google.com/uc?id=1fB9P1Ha1ofQiYWU9wkLAxDZTbtp3Gfqz\n",
      "To: /home/server-ailab-12gb/Khoa/AIO2023/hint/Final/sol/Auto_MPG_data.csv\n",
      "100%|███████████████████████████████████████| 15.4k/15.4k [00:00<00:00, 820kB/s]\n"
     ]
    }
   ],
   "source": [
    "!gdown --id 1fB9P1Ha1ofQiYWU9wkLAxDZTbtp3Gfqz"
   ]
  },
  {
   "cell_type": "code",
   "execution_count": 2,
   "metadata": {
    "colab": {
     "base_uri": "https://localhost:8080/"
    },
    "executionInfo": {
     "elapsed": 3677,
     "status": "ok",
     "timestamp": 1695831944752,
     "user": {
      "displayName": "Khoa Nguyen Tho Anh",
      "userId": "05392028195404260378"
     },
     "user_tz": -420
    },
    "id": "G3bkvnjeX3Qw",
    "outputId": "049087f8-49b6-4d12-a809-bc830b4e6ab3"
   },
   "outputs": [
    {
     "data": {
      "text/plain": [
       "<torch._C.Generator at 0x7fa416b3b250>"
      ]
     },
     "execution_count": 2,
     "metadata": {},
     "output_type": "execute_result"
    }
   ],
   "source": [
    "import numpy as np\n",
    "import pandas as pd\n",
    "import matplotlib.pyplot as plt\n",
    "import torch\n",
    "from torch import nn\n",
    "import torch.optim as optim\n",
    "from torch.utils.data import Dataset, DataLoader\n",
    "\n",
    "device = torch.device('cuda:0' if torch.cuda.is_available() else 'cpu')\n",
    "torch.manual_seed(42)"
   ]
  },
  {
   "cell_type": "markdown",
   "metadata": {
    "id": "YZLOVWxF3CA3"
   },
   "source": [
    "## Load Data"
   ]
  },
  {
   "cell_type": "code",
   "execution_count": 3,
   "metadata": {
    "colab": {
     "base_uri": "https://localhost:8080/",
     "height": 206
    },
    "executionInfo": {
     "elapsed": 19,
     "status": "ok",
     "timestamp": 1695831944752,
     "user": {
      "displayName": "Khoa Nguyen Tho Anh",
      "userId": "05392028195404260378"
     },
     "user_tz": -420
    },
    "id": "mD0-N0bRb9c5",
    "outputId": "0b886241-7b96-4030-f864-3e71b690dae4"
   },
   "outputs": [
    {
     "data": {
      "text/html": [
       "<div>\n",
       "<style scoped>\n",
       "    .dataframe tbody tr th:only-of-type {\n",
       "        vertical-align: middle;\n",
       "    }\n",
       "\n",
       "    .dataframe tbody tr th {\n",
       "        vertical-align: top;\n",
       "    }\n",
       "\n",
       "    .dataframe thead th {\n",
       "        text-align: right;\n",
       "    }\n",
       "</style>\n",
       "<table border=\"1\" class=\"dataframe\">\n",
       "  <thead>\n",
       "    <tr style=\"text-align: right;\">\n",
       "      <th></th>\n",
       "      <th>MPG</th>\n",
       "      <th>Cylinders</th>\n",
       "      <th>Displacement</th>\n",
       "      <th>Horsepower</th>\n",
       "      <th>Weight</th>\n",
       "      <th>Acceleration</th>\n",
       "      <th>Model Year</th>\n",
       "      <th>Europe</th>\n",
       "      <th>Japan</th>\n",
       "      <th>USA</th>\n",
       "    </tr>\n",
       "  </thead>\n",
       "  <tbody>\n",
       "    <tr>\n",
       "      <th>0</th>\n",
       "      <td>18.0</td>\n",
       "      <td>8</td>\n",
       "      <td>307.0</td>\n",
       "      <td>130.0</td>\n",
       "      <td>3504.0</td>\n",
       "      <td>12.0</td>\n",
       "      <td>70</td>\n",
       "      <td>0</td>\n",
       "      <td>0</td>\n",
       "      <td>1</td>\n",
       "    </tr>\n",
       "    <tr>\n",
       "      <th>1</th>\n",
       "      <td>15.0</td>\n",
       "      <td>8</td>\n",
       "      <td>350.0</td>\n",
       "      <td>165.0</td>\n",
       "      <td>3693.0</td>\n",
       "      <td>11.5</td>\n",
       "      <td>70</td>\n",
       "      <td>0</td>\n",
       "      <td>0</td>\n",
       "      <td>1</td>\n",
       "    </tr>\n",
       "    <tr>\n",
       "      <th>2</th>\n",
       "      <td>18.0</td>\n",
       "      <td>8</td>\n",
       "      <td>318.0</td>\n",
       "      <td>150.0</td>\n",
       "      <td>3436.0</td>\n",
       "      <td>11.0</td>\n",
       "      <td>70</td>\n",
       "      <td>0</td>\n",
       "      <td>0</td>\n",
       "      <td>1</td>\n",
       "    </tr>\n",
       "    <tr>\n",
       "      <th>3</th>\n",
       "      <td>16.0</td>\n",
       "      <td>8</td>\n",
       "      <td>304.0</td>\n",
       "      <td>150.0</td>\n",
       "      <td>3433.0</td>\n",
       "      <td>12.0</td>\n",
       "      <td>70</td>\n",
       "      <td>0</td>\n",
       "      <td>0</td>\n",
       "      <td>1</td>\n",
       "    </tr>\n",
       "    <tr>\n",
       "      <th>4</th>\n",
       "      <td>17.0</td>\n",
       "      <td>8</td>\n",
       "      <td>302.0</td>\n",
       "      <td>140.0</td>\n",
       "      <td>3449.0</td>\n",
       "      <td>10.5</td>\n",
       "      <td>70</td>\n",
       "      <td>0</td>\n",
       "      <td>0</td>\n",
       "      <td>1</td>\n",
       "    </tr>\n",
       "  </tbody>\n",
       "</table>\n",
       "</div>"
      ],
      "text/plain": [
       "    MPG  Cylinders  Displacement  Horsepower  Weight  Acceleration  \\\n",
       "0  18.0          8         307.0       130.0  3504.0          12.0   \n",
       "1  15.0          8         350.0       165.0  3693.0          11.5   \n",
       "2  18.0          8         318.0       150.0  3436.0          11.0   \n",
       "3  16.0          8         304.0       150.0  3433.0          12.0   \n",
       "4  17.0          8         302.0       140.0  3449.0          10.5   \n",
       "\n",
       "   Model Year  Europe  Japan  USA  \n",
       "0          70       0      0    1  \n",
       "1          70       0      0    1  \n",
       "2          70       0      0    1  \n",
       "3          70       0      0    1  \n",
       "4          70       0      0    1  "
      ]
     },
     "execution_count": 3,
     "metadata": {},
     "output_type": "execute_result"
    }
   ],
   "source": [
    "dataset = pd.read_csv(\"/content/Auto_MPG_data.csv\")\n",
    "dataset.head()"
   ]
  },
  {
   "cell_type": "markdown",
   "metadata": {
    "id": "T6eIMDg_8G88"
   },
   "source": [
    "## Tiền xử lý dữ liệu dạng table"
   ]
  },
  {
   "cell_type": "markdown",
   "metadata": {
    "id": "eYQgHFPy3M-G"
   },
   "source": [
    "### Lấy label và chia bộ dữ liệu train/val"
   ]
  },
  {
   "cell_type": "code",
   "execution_count": 4,
   "metadata": {
    "executionInfo": {
     "elapsed": 17,
     "status": "ok",
     "timestamp": 1695831944753,
     "user": {
      "displayName": "Khoa Nguyen Tho Anh",
      "userId": "05392028195404260378"
     },
     "user_tz": -420
    },
    "id": "3KFNxNctYgTY"
   },
   "outputs": [],
   "source": [
    "train_dataset = dataset.sample(frac=0.8, random_state=0)\n",
    "val_dataset = dataset.drop(train_dataset.index)"
   ]
  },
  {
   "cell_type": "code",
   "execution_count": 5,
   "metadata": {
    "executionInfo": {
     "elapsed": 6,
     "status": "ok",
     "timestamp": 1695831955476,
     "user": {
      "displayName": "Khoa Nguyen Tho Anh",
      "userId": "05392028195404260378"
     },
     "user_tz": -420
    },
    "id": "FHglrf7qYkhs"
   },
   "outputs": [],
   "source": [
    "X_train = train_dataset.copy()\n",
    "X_val = val_dataset.copy()\n",
    "\n",
    "y_train = X_train.pop('MPG')\n",
    "y_val = X_val.pop('MPG')\n",
    "\n",
    "X_train, y_train = torch.tensor(X_train.values, dtype=torch.float32), torch.tensor(y_train.values, dtype=torch.float32)\n",
    "X_val, y_val = torch.tensor(X_val.values, dtype=torch.float32), torch.tensor(y_val.values, dtype=torch.float32)"
   ]
  },
  {
   "cell_type": "markdown",
   "metadata": {
    "id": "fJwFqmUn3ifv"
   },
   "source": [
    "### Chuẩn hóa dữ liệu (Data Standardisation)"
   ]
  },
  {
   "cell_type": "code",
   "execution_count": 6,
   "metadata": {
    "executionInfo": {
     "elapsed": 5,
     "status": "ok",
     "timestamp": 1695831962412,
     "user": {
      "displayName": "Khoa Nguyen Tho Anh",
      "userId": "05392028195404260378"
     },
     "user_tz": -420
    },
    "id": "u5kpBGfVbVUD"
   },
   "outputs": [],
   "source": [
    "_MEAN = X_train.mean(axis=0)\n",
    "_STD = X_train.std(axis=0)\n",
    "\n",
    "X_train = ( X_train-_MEAN)/_STD\n",
    "X_val = ( X_val-_MEAN)/_STD"
   ]
  },
  {
   "cell_type": "code",
   "execution_count": 7,
   "metadata": {
    "executionInfo": {
     "elapsed": 2,
     "status": "ok",
     "timestamp": 1695831988322,
     "user": {
      "displayName": "Khoa Nguyen Tho Anh",
      "userId": "05392028195404260378"
     },
     "user_tz": -420
    },
    "id": "il-wRorLdmTV"
   },
   "outputs": [],
   "source": [
    "class CustomDataset(Dataset):\n",
    "    def __init__(self, X, y):\n",
    "        self.X = X\n",
    "        self.y = y\n",
    "\n",
    "    def __len__(self):\n",
    "        return len(self.y)\n",
    "\n",
    "    def __getitem__(self, idx):\n",
    "        # print(idx)\n",
    "        return self.X[idx], self.y[idx]"
   ]
  },
  {
   "cell_type": "code",
   "execution_count": 8,
   "metadata": {
    "executionInfo": {
     "elapsed": 5,
     "status": "ok",
     "timestamp": 1695831998460,
     "user": {
      "displayName": "Khoa Nguyen Tho Anh",
      "userId": "05392028195404260378"
     },
     "user_tz": -420
    },
    "id": "_6uBR0ordqXJ"
   },
   "outputs": [],
   "source": [
    "train_dataset = CustomDataset(X_train, y_train)\n",
    "val_dataset = CustomDataset(X_val, y_val)\n",
    "train_loader = DataLoader(train_dataset, batch_size=32, shuffle=True)\n",
    "val_loader = DataLoader(val_dataset, batch_size=32)"
   ]
  },
  {
   "cell_type": "markdown",
   "metadata": {
    "id": "J8C8hvmn4AUc"
   },
   "source": [
    "## Sử dụng Tensorflow để  build, compile và train và evaluate model. Kết quả train và evaluation được thể hiện bằng hình ảnh bằng cách sử dụng matplotlib"
   ]
  },
  {
   "cell_type": "markdown",
   "metadata": {
    "id": "pe3ylwhzH6ks"
   },
   "source": [
    "### MLP for Regressuion - MSE"
   ]
  },
  {
   "cell_type": "code",
   "execution_count": 9,
   "metadata": {
    "executionInfo": {
     "elapsed": 621,
     "status": "ok",
     "timestamp": 1695832367954,
     "user": {
      "displayName": "Khoa Nguyen Tho Anh",
      "userId": "05392028195404260378"
     },
     "user_tz": -420
    },
    "id": "Co98aXfydtz0"
   },
   "outputs": [],
   "source": [
    "######################### YOUR CODE HERE #########################\n",
    "# Thiết kế model theo yêu cầu đề  bài \n",
    "# Hidden layer 1: Linear layer in_features = input_dims (9), out_features = hidden_dims (64),  \n",
    "# activation = relu\n",
    "# Hidden layer 2: Linear layer in_features = hidden_dims (64), out_features = hidden_dims (64), \n",
    "# activation = relu\n",
    "# Output layer: Linear layer in_features = hidden_dims (64), out_features = output_dims (1), \n",
    "\n",
    "class MLP(nn.Module):\n",
    "    def __init__(self, input_dims, hidden_dims, output_dims):\n",
    "\n",
    "    def forward(self, x):\n",
    "##################################################################\n",
    "\n",
    "model = MLP(input_dims=9, hidden_dims=64, output_dims=1).to(device)\n",
    "criterion = nn.MSELoss()\n",
    "optimizer = optim.SGD(model.parameters(), lr=0.003)"
   ]
  },
  {
   "cell_type": "code",
   "execution_count": 10,
   "metadata": {
    "executionInfo": {
     "elapsed": 4,
     "status": "ok",
     "timestamp": 1695832369448,
     "user": {
      "displayName": "Khoa Nguyen Tho Anh",
      "userId": "05392028195404260378"
     },
     "user_tz": -420
    },
    "id": "kY1rB1usfEUc"
   },
   "outputs": [],
   "source": [
    "def r_squared(y_true, y_pred):\n",
    "    \"\"\"\n",
    "    Compute R^2 score.\n",
    "    \"\"\"\n",
    "    y_true = torch.Tensor(y_true)\n",
    "    y_pred = torch.Tensor(y_pred)\n",
    "    mean_true = torch.mean(y_true)\n",
    "    ss_tot = torch.sum((y_true - mean_true) ** 2)\n",
    "    ss_res = torch.sum((y_true - y_pred) ** 2)\n",
    "    r2 = 1 - (ss_res / ss_tot)\n",
    "    return r2"
   ]
  },
  {
   "cell_type": "markdown",
   "metadata": {
    "id": "oJzhhPUn4zy8"
   },
   "source": []
  },
  {
   "cell_type": "code",
   "execution_count": 11,
   "metadata": {
    "colab": {
     "base_uri": "https://localhost:8080/"
    },
    "executionInfo": {
     "elapsed": 1530,
     "status": "ok",
     "timestamp": 1695832385620,
     "user": {
      "displayName": "Khoa Nguyen Tho Anh",
      "userId": "05392028195404260378"
     },
     "user_tz": -420
    },
    "id": "4krCCYspfI4W",
    "outputId": "625c96af-5ed4-4ae3-9f02-51c9ac119a99"
   },
   "outputs": [
    {
     "name": "stdout",
     "output_type": "stream",
     "text": [
      "Epoch 1/100, Train_Loss: 349.4243,  Validation Loss: 27.1808\n",
      "Epoch 2/100, Train_Loss: 20.4971,  Validation Loss: 11.3844\n",
      "Epoch 3/100, Train_Loss: 17.7197,  Validation Loss: 9.4902\n",
      "Epoch 4/100, Train_Loss: 11.4268,  Validation Loss: 9.2070\n",
      "Epoch 5/100, Train_Loss: 9.7830,  Validation Loss: 8.9023\n",
      "Epoch 6/100, Train_Loss: 8.9946,  Validation Loss: 7.5636\n",
      "Epoch 7/100, Train_Loss: 10.5826,  Validation Loss: 17.1286\n",
      "Epoch 8/100, Train_Loss: 8.2227,  Validation Loss: 8.6566\n",
      "Epoch 9/100, Train_Loss: 8.3551,  Validation Loss: 7.6622\n",
      "Epoch 10/100, Train_Loss: 7.9830,  Validation Loss: 10.7803\n",
      "Epoch 11/100, Train_Loss: 8.2312,  Validation Loss: 7.1423\n",
      "Epoch 12/100, Train_Loss: 7.5095,  Validation Loss: 6.6594\n",
      "Epoch 13/100, Train_Loss: 8.2816,  Validation Loss: 13.2485\n",
      "Epoch 14/100, Train_Loss: 8.3010,  Validation Loss: 6.7308\n",
      "Epoch 15/100, Train_Loss: 7.6029,  Validation Loss: 7.9081\n",
      "Epoch 16/100, Train_Loss: 7.2687,  Validation Loss: 8.6493\n",
      "Epoch 17/100, Train_Loss: 7.6837,  Validation Loss: 7.2431\n",
      "Epoch 18/100, Train_Loss: 7.3784,  Validation Loss: 7.2843\n",
      "Epoch 19/100, Train_Loss: 7.1984,  Validation Loss: 7.4805\n",
      "Epoch 20/100, Train_Loss: 7.5472,  Validation Loss: 6.4318\n",
      "Epoch 21/100, Train_Loss: 7.5111,  Validation Loss: 6.9088\n",
      "Epoch 22/100, Train_Loss: 6.9155,  Validation Loss: 9.6956\n",
      "Epoch 23/100, Train_Loss: 8.0015,  Validation Loss: 6.9820\n",
      "Epoch 24/100, Train_Loss: 7.3858,  Validation Loss: 6.1292\n",
      "Epoch 25/100, Train_Loss: 6.7195,  Validation Loss: 7.4897\n",
      "Epoch 26/100, Train_Loss: 6.8051,  Validation Loss: 6.1912\n",
      "Epoch 27/100, Train_Loss: 6.9020,  Validation Loss: 6.2055\n",
      "Epoch 28/100, Train_Loss: 7.2432,  Validation Loss: 6.7107\n",
      "Epoch 29/100, Train_Loss: 7.2976,  Validation Loss: 6.0859\n",
      "Epoch 30/100, Train_Loss: 6.9320,  Validation Loss: 7.8263\n",
      "Epoch 31/100, Train_Loss: 6.7198,  Validation Loss: 6.1710\n",
      "Epoch 32/100, Train_Loss: 6.8943,  Validation Loss: 7.1727\n",
      "Epoch 33/100, Train_Loss: 6.7851,  Validation Loss: 5.9785\n",
      "Epoch 34/100, Train_Loss: 6.6806,  Validation Loss: 6.4850\n",
      "Epoch 35/100, Train_Loss: 7.2286,  Validation Loss: 5.8463\n",
      "Epoch 36/100, Train_Loss: 7.2772,  Validation Loss: 5.7261\n",
      "Epoch 37/100, Train_Loss: 7.0169,  Validation Loss: 6.9550\n",
      "Epoch 38/100, Train_Loss: 6.5274,  Validation Loss: 5.7754\n",
      "Epoch 39/100, Train_Loss: 6.6287,  Validation Loss: 6.5708\n",
      "Epoch 40/100, Train_Loss: 7.4092,  Validation Loss: 5.9458\n",
      "Epoch 41/100, Train_Loss: 6.4897,  Validation Loss: 8.0506\n",
      "Epoch 42/100, Train_Loss: 6.4026,  Validation Loss: 5.8077\n",
      "Epoch 43/100, Train_Loss: 7.2061,  Validation Loss: 6.7891\n",
      "Epoch 44/100, Train_Loss: 7.1528,  Validation Loss: 5.8416\n",
      "Epoch 45/100, Train_Loss: 6.5763,  Validation Loss: 16.8214\n",
      "Epoch 46/100, Train_Loss: 7.6443,  Validation Loss: 8.0746\n",
      "Epoch 47/100, Train_Loss: 6.8032,  Validation Loss: 5.5696\n",
      "Epoch 48/100, Train_Loss: 6.3793,  Validation Loss: 5.7356\n",
      "Epoch 49/100, Train_Loss: 8.3969,  Validation Loss: 7.7682\n",
      "Epoch 50/100, Train_Loss: 6.3454,  Validation Loss: 7.1690\n",
      "Epoch 51/100, Train_Loss: 6.2851,  Validation Loss: 7.2224\n",
      "Epoch 52/100, Train_Loss: 6.3493,  Validation Loss: 5.7617\n",
      "Epoch 53/100, Train_Loss: 6.6125,  Validation Loss: 6.2981\n",
      "Epoch 54/100, Train_Loss: 6.1435,  Validation Loss: 8.4013\n",
      "Epoch 55/100, Train_Loss: 6.6622,  Validation Loss: 6.1217\n",
      "Epoch 56/100, Train_Loss: 6.3270,  Validation Loss: 5.5953\n",
      "Epoch 57/100, Train_Loss: 6.5034,  Validation Loss: 6.0201\n",
      "Epoch 58/100, Train_Loss: 6.9177,  Validation Loss: 5.9419\n",
      "Epoch 59/100, Train_Loss: 6.9943,  Validation Loss: 8.0864\n",
      "Epoch 60/100, Train_Loss: 6.6495,  Validation Loss: 6.5961\n",
      "Epoch 61/100, Train_Loss: 6.6789,  Validation Loss: 5.6444\n",
      "Epoch 62/100, Train_Loss: 6.7626,  Validation Loss: 6.2367\n",
      "Epoch 63/100, Train_Loss: 6.0382,  Validation Loss: 6.2830\n",
      "Epoch 64/100, Train_Loss: 6.2694,  Validation Loss: 14.5489\n",
      "Epoch 65/100, Train_Loss: 6.7545,  Validation Loss: 7.2645\n",
      "Epoch 66/100, Train_Loss: 7.0339,  Validation Loss: 5.8566\n",
      "Epoch 67/100, Train_Loss: 6.3227,  Validation Loss: 9.2567\n",
      "Epoch 68/100, Train_Loss: 6.1416,  Validation Loss: 10.1057\n",
      "Epoch 69/100, Train_Loss: 6.0267,  Validation Loss: 7.3751\n",
      "Epoch 70/100, Train_Loss: 6.4705,  Validation Loss: 5.8875\n",
      "Epoch 71/100, Train_Loss: 6.1372,  Validation Loss: 5.7880\n",
      "Epoch 72/100, Train_Loss: 6.0457,  Validation Loss: 5.9595\n",
      "Epoch 73/100, Train_Loss: 6.6438,  Validation Loss: 5.4508\n",
      "Epoch 74/100, Train_Loss: 6.3915,  Validation Loss: 5.4798\n",
      "Epoch 75/100, Train_Loss: 6.8810,  Validation Loss: 5.4662\n",
      "Epoch 76/100, Train_Loss: 6.1438,  Validation Loss: 7.8285\n",
      "Epoch 77/100, Train_Loss: 6.1304,  Validation Loss: 6.0394\n",
      "Epoch 78/100, Train_Loss: 6.9238,  Validation Loss: 6.4998\n",
      "Epoch 79/100, Train_Loss: 6.7638,  Validation Loss: 5.3192\n",
      "Epoch 80/100, Train_Loss: 5.9836,  Validation Loss: 5.5476\n",
      "Epoch 81/100, Train_Loss: 9.0206,  Validation Loss: 7.5823\n",
      "Epoch 82/100, Train_Loss: 6.2265,  Validation Loss: 5.6607\n",
      "Epoch 83/100, Train_Loss: 6.0832,  Validation Loss: 5.9743\n",
      "Epoch 84/100, Train_Loss: 6.2679,  Validation Loss: 6.0039\n",
      "Epoch 85/100, Train_Loss: 6.9747,  Validation Loss: 9.1229\n",
      "Epoch 86/100, Train_Loss: 6.4673,  Validation Loss: 13.6511\n",
      "Epoch 87/100, Train_Loss: 6.9571,  Validation Loss: 8.4919\n",
      "Epoch 88/100, Train_Loss: 7.2860,  Validation Loss: 5.5442\n",
      "Epoch 89/100, Train_Loss: 6.5910,  Validation Loss: 6.3043\n",
      "Epoch 90/100, Train_Loss: 5.9622,  Validation Loss: 6.0295\n",
      "Epoch 91/100, Train_Loss: 7.3855,  Validation Loss: 5.9436\n",
      "Epoch 92/100, Train_Loss: 6.6837,  Validation Loss: 5.4647\n",
      "Epoch 93/100, Train_Loss: 6.3171,  Validation Loss: 5.3681\n",
      "Epoch 94/100, Train_Loss: 6.3706,  Validation Loss: 10.6385\n",
      "Epoch 95/100, Train_Loss: 6.2591,  Validation Loss: 5.8623\n",
      "Epoch 96/100, Train_Loss: 7.4751,  Validation Loss: 5.8814\n",
      "Epoch 97/100, Train_Loss: 6.2707,  Validation Loss: 5.2204\n",
      "Epoch 98/100, Train_Loss: 6.0597,  Validation Loss: 6.0811\n",
      "Epoch 99/100, Train_Loss: 6.2950,  Validation Loss: 9.9705\n",
      "Epoch 100/100, Train_Loss: 6.3262,  Validation Loss: 5.5129\n"
     ]
    }
   ],
   "source": [
    "num_epochs = 100\n",
    "train_losses = []\n",
    "val_losses = []\n",
    "train_r2 = []\n",
    "val_r2 = []\n",
    "\n",
    "for epoch in range(num_epochs):\n",
    "    model.train()\n",
    "    train_loss = 0.0\n",
    "    train_target = []\n",
    "    val_target = []\n",
    "    train_predict = []\n",
    "    val_predict = []\n",
    "    for X, y in train_loader:\n",
    "        X, y = X.to(device), y.to(device)\n",
    "        optimizer.zero_grad()\n",
    "        outputs = model(X)\n",
    "        train_predict.extend(outputs.tolist())\n",
    "        train_target.extend(y.tolist())\n",
    "        loss = criterion(outputs, y)\n",
    "        loss.backward()\n",
    "        optimizer.step()\n",
    "        train_loss += loss.item()\n",
    "    train_loss /= len(train_loader)\n",
    "    train_losses.append(train_loss)\n",
    "    train_r2.append(r_squared(train_target, train_predict))\n",
    "    model.eval()\n",
    "    val_loss = 0.0\n",
    "    with torch.no_grad():\n",
    "        for X, y in val_loader:\n",
    "            X, y = X.to(device), y.to(device)\n",
    "            outputs = model(X)\n",
    "            val_predict.extend(outputs.tolist())\n",
    "            val_target.extend(y.tolist())\n",
    "            loss = criterion(outputs, y)\n",
    "            val_loss += loss.item()\n",
    "    val_loss /= len(val_loader)\n",
    "    val_losses.append(val_loss)\n",
    "    val_r2.append(r_squared(val_target, val_predict))\n",
    "    print(f\"Epoch {epoch+1}/{num_epochs}, Train_Loss: {train_loss:.4f},  Validation Loss: {val_loss:.4f}\")"
   ]
  },
  {
   "cell_type": "code",
   "execution_count": 12,
   "metadata": {
    "colab": {
     "base_uri": "https://localhost:8080/",
     "height": 449
    },
    "executionInfo": {
     "elapsed": 14,
     "status": "ok",
     "timestamp": 1695832402603,
     "user": {
      "displayName": "Khoa Nguyen Tho Anh",
      "userId": "05392028195404260378"
     },
     "user_tz": -420
    },
    "id": "GBoqX7xMfNxK",
    "outputId": "2c2796d1-8502-471b-c2d3-5fa33d741c5d"
   },
   "outputs": [
    {
     "data": {
      "image/png": "[encoded data removed]",
      "text/plain": [
       "<Figure size 640x480 with 1 Axes>"
      ]
     },
     "metadata": {},
     "output_type": "display_data"
    }
   ],
   "source": [
    "plt.plot(train_losses, label='loss')\n",
    "plt.plot(val_losses, label='val_loss')\n",
    "# plt.ylim([0, 40])\n",
    "plt.xlabel('Epoch')\n",
    "plt.ylabel('Error [MPG]')\n",
    "plt.legend()\n",
    "plt.grid(True)"
   ]
  },
  {
   "cell_type": "code",
   "execution_count": 13,
   "metadata": {
    "colab": {
     "base_uri": "https://localhost:8080/",
     "height": 449
    },
    "executionInfo": {
     "elapsed": 1328,
     "status": "ok",
     "timestamp": 1695832412273,
     "user": {
      "displayName": "Khoa Nguyen Tho Anh",
      "userId": "05392028195404260378"
     },
     "user_tz": -420
    },
    "id": "F7SKVM_AfOfu",
    "outputId": "e5d75fea-1fda-46b6-f98f-17e8b10d2474"
   },
   "outputs": [
    {
     "data": {
      "image/png": "[encoded data removed]",
      "text/plain": [
       "<Figure size 640x480 with 1 Axes>"
      ]
     },
     "metadata": {},
     "output_type": "display_data"
    }
   ],
   "source": [
    "plt.plot(train_r2, label='r2')\n",
    "plt.plot(val_r2, label='val_r2')\n",
    "# plt.ylim([0, 40])\n",
    "plt.xlabel('Epoch')\n",
    "plt.ylabel('Error [MPG]')\n",
    "plt.legend()\n",
    "plt.grid(True)"
   ]
  }
 ],
 "metadata": {
  "accelerator": "GPU",
  "colab": {
   "provenance": [],
   "toc_visible": true
  },
  "gpuClass": "standard",
  "kernelspec": {
   "display_name": "Python 3 (ipykernel)",
   "language": "python",
   "name": "python3"
  },
  "language_info": {
   "codemirror_mode": {
    "name": "ipython",
    "version": 3
   },
   "file_extension": ".py",
   "mimetype": "text/x-python",
   "name": "python",
   "nbconvert_exporter": "python",
   "pygments_lexer": "ipython3",
   "version": "3.10.13"
  }
 },
 "nbformat": 4,
 "nbformat_minor": 4
}
